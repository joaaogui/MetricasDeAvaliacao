{
 "cells": [
  {
   "cell_type": "code",
   "execution_count": 2,
   "metadata": {},
   "outputs": [],
   "source": [
    "from github import Github\n",
    "import plotly.plotly as py\n",
    "import plotly\n",
    "from plotly.graph_objs import *"
   ]
  },
  {
   "cell_type": "code",
   "execution_count": 3,
   "metadata": {},
   "outputs": [],
   "source": [
    "# Create a Github instance:\n",
    "g = Github(\"<github_token>\")\n",
    "\n",
    "# Find the organization I want\n",
    "org = g.get_organization(\"fga-gpp-mds\")\n",
    "\n",
    "# Get all repos from my account, including from organizations\n",
    "repos = org.get_repos()"
   ]
  },
  {
   "cell_type": "markdown",
   "metadata": {},
   "source": [
    "# 2018 Commits"
   ]
  },
  {
   "cell_type": "code",
   "execution_count": 4,
   "metadata": {},
   "outputs": [],
   "source": [
    "repos_commits = {'Reabilitacao-Motora': 1176,\n",
    "'Cardinals': 616,\n",
    "'TropicalHazards': 1112,\n",
    "'Nexte': 1824,\n",
    "'Dr-Down': 1863,\n",
    "'Gerencia_mais': 861,\n",
    "'VoxPop': 851,\n",
    "'Lacos-da-Alegria': 871,\n",
    "'IncluCare': 507,\n",
    "'Dulce': 3032}\n"
   ]
  },
  {
   "cell_type": "code",
   "execution_count": 5,
   "metadata": {},
   "outputs": [],
   "source": [
    "repo_list = list()\n",
    "repo_names = list()"
   ]
  },
  {
   "cell_type": "code",
   "execution_count": 8,
   "metadata": {},
   "outputs": [],
   "source": [
    "commit_count = list(repos_commits.values())\n",
    "for repo in list(repos_commits.keys()):\n",
    "#     repo_list.append(repo[:6])\n",
    "    repo_names.append(repo)\n",
    "# print(repo_list)\n",
    "# print(commit_count)\n",
    "# print(repo_names)"
   ]
  },
  {
   "cell_type": "code",
   "execution_count": 9,
   "metadata": {
    "scrolled": true
   },
   "outputs": [
    {
     "data": {
      "text/html": [
       "<iframe id=\"igraph\" scrolling=\"no\" style=\"border:none;\" seamless=\"seamless\" src=\"https://plot.ly/~joaaogui/121.embed\" height=\"525px\" width=\"100%\"></iframe>"
      ],
      "text/plain": [
       "<plotly.tools.PlotlyDisplay object>"
      ]
     },
     "execution_count": 9,
     "metadata": {},
     "output_type": "execute_result"
    }
   ],
   "source": [
    "# Setting up plotly\n",
    "plotly.tools.set_credentials_file(username='joaaogui', api_key='2TfVhKWEO6rpuxlj7c6R')\n",
    "# Setting the privacy of the chart\n",
    "plotly.tools.set_config_file(world_readable=True, sharing='public')\n",
    "# py.sign_in('username', 'api_key')\n",
    "trace1 = {\n",
    "  \"x\": repo_names,\n",
    "  \"y\": commit_count, \n",
    "  \"mode\": \"markers\", \n",
    "  \"type\": \"scatter\", \n",
    "}\n",
    "title = \"Commits por semestre. Média: \" + str(sum(commit_count)/len(repo_names))\n",
    "data = Data([trace1])\n",
    "layout = {\n",
    "    \"title\": title,\n",
    "  \"xaxis\": {\"title\": \"Semestre\"}, \n",
    "  \"yaxis\": {\n",
    "    \"title\": \"Quantidade De Commits\", \n",
    "    \"zeroline\": False\n",
    "  }\n",
    "}\n",
    "fig = Figure(data=data, layout=layout)\n",
    "py.iplot(fig, filename = 'Commit per semmester 2018')"
   ]
  },
  {
   "cell_type": "code",
   "execution_count": null,
   "metadata": {},
   "outputs": [],
   "source": []
  }
 ],
 "metadata": {
  "kernelspec": {
   "display_name": "Python 3",
   "language": "python",
   "name": "python3"
  },
  "language_info": {
   "codemirror_mode": {
    "name": "ipython",
    "version": 3
   },
   "file_extension": ".py",
   "mimetype": "text/x-python",
   "name": "python",
   "nbconvert_exporter": "python",
   "pygments_lexer": "ipython3",
   "version": "3.6.5"
  }
 },
 "nbformat": 4,
 "nbformat_minor": 2
}
