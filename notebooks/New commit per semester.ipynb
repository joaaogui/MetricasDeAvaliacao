{
 "cells": [
  {
   "cell_type": "code",
   "execution_count": 99,
   "metadata": {},
   "outputs": [],
   "source": [
    "from github import Github\n",
    "import plotly.graph_objects as go\n",
    "from collections import defaultdict\n",
    "import numpy as np"
   ]
  },
  {
   "cell_type": "code",
   "execution_count": 94,
   "metadata": {},
   "outputs": [],
   "source": [
    "# Create a Github instance:\n",
    "g = Github(\"<token>\")\n",
    "\n",
    "# Find the organization I want\n",
    "org = g.get_organization(\"fga-eps-mds\")\n",
    "\n",
    "# Get all repos from my account, including from organizations\n",
    "repos = org.get_repos()"
   ]
  },
  {
   "cell_type": "code",
   "execution_count": 100,
   "metadata": {},
   "outputs": [],
   "source": [
    "repo_commits = defaultdict(list)\n",
    "repo_names = []\n",
    "repo_amounts = []\n",
    "\n",
    "for repo in repos:\n",
    "    if repo.name[0] != str(2):\n",
    "        continue\n",
    "    else:\n",
    "        repo_name = f'\"{repo.name[:6]}\"'\n",
    "        repo_name = repo_name.replace(\".\",\"-\")\n",
    "        repo_names.append(repo_name)\n",
    "        repo_amounts.append(int(repo.get_commits().totalCount))\n",
    "        repo_commits[str(repo_name)].append(int(repo.get_commits().totalCount))"
   ]
  },
  {
   "cell_type": "code",
   "execution_count": 105,
   "metadata": {},
   "outputs": [
    {
     "data": {
      "application/vnd.plotly.v1+json": {
       "config": {
        "plotlyServerURL": "https://plot.ly"
       },
       "data": [
        {
         "mode": "markers",
         "type": "scatter",
         "x": [
          "\"2016-1\"",
          "\"2016-1\"",
          "\"2016-1\"",
          "\"2016-1\"",
          "\"2016-1\"",
          "\"2016-1\"",
          "\"2016-1\"",
          "\"2016-1\"",
          "\"2016-1\"",
          "\"2016-2\"",
          "\"2016-2\"",
          "\"2016-2\"",
          "\"2016-2\"",
          "\"2016-2\"",
          "\"2016-2\"",
          "\"2016-2\"",
          "\"2016-2\"",
          "\"2016-2\"",
          "\"2016-2\"",
          "\"2017-1\"",
          "\"2017-1\"",
          "\"2017-1\"",
          "\"2017-1\"",
          "\"2017-1\"",
          "\"2017-1\"",
          "\"2017-1\"",
          "\"2017-1\"",
          "\"2017-1\"",
          "\"2017-1\"",
          "\"2017-1\"",
          "\"2017-1\"",
          "\"2017-2\"",
          "\"2017-2\"",
          "\"2017-2\"",
          "\"2017-2\"",
          "\"2017-2\"",
          "\"2017-2\"",
          "\"2017-2\"",
          "\"2017-2\"",
          "\"2017-2\"",
          "\"2017-2\"",
          "\"2017-2\"",
          "\"2018-1\"",
          "\"2018-1\"",
          "\"2018-1\"",
          "\"2018-1\"",
          "\"2018-1\"",
          "\"2018-1\"",
          "\"2018-1\"",
          "\"2018-1\"",
          "\"2018-1\"",
          "\"2018-1\"",
          "\"2018-1\"",
          "\"2018-1\"",
          "\"2018-1\"",
          "\"2018-1\"",
          "\"2018-1\"",
          "\"2018-1\"",
          "\"2018-1\"",
          "\"2018-1\"",
          "\"2018-1\"",
          "\"2018-1\"",
          "\"2018-1\"",
          "\"2018-1\"",
          "\"2018-1\"",
          "\"2018-1\"",
          "\"2018-1\"",
          "\"2018-1\"",
          "\"2018-1\"",
          "\"2018-1\"",
          "\"2018-2\"",
          "\"2018-2\"",
          "\"2018-2\"",
          "\"2018-2\"",
          "\"2018-2\"",
          "\"2018-2\"",
          "\"2018-2\"",
          "\"2018-2\"",
          "\"2018-2\"",
          "\"2018-2\"",
          "\"2018-2\"",
          "\"2018-2\"",
          "\"2018-2\"",
          "\"2018-2\"",
          "\"2018-2\"",
          "\"2018-2\"",
          "\"2018-2\"",
          "\"2018-2\"",
          "\"2018-2\"",
          "\"2018-2\"",
          "\"2018-2\"",
          "\"2018-2\"",
          "\"2019-1\"",
          "\"2019-1\"",
          "\"2019-1\"",
          "\"2019-1\"",
          "\"2019-1\"",
          "\"2019-1\"",
          "\"2019-1\"",
          "\"2019-1\"",
          "\"2019-1\"",
          "\"2019-1\"",
          "\"2019-1\"",
          "\"2019-1\"",
          "\"2019-1\"",
          "\"2019-1\"",
          "\"2019-1\"",
          "\"2019-1\"",
          "\"2019-1\"",
          "\"2019-1\"",
          "\"2019-1\"",
          "\"2019-1\"",
          "\"2019-2\"",
          "\"2019-2\"",
          "\"2019-2\"",
          "\"2019-2\"",
          "\"2019-2\"",
          "\"2019-2\"",
          "\"2019-2\"",
          "\"2019-2\"",
          "\"2019-2\"",
          "\"2019-2\"",
          "\"2019-2\"",
          "\"2019-2\"",
          "\"2019-2\"",
          "\"2019-2\"",
          "\"2019-2\"",
          "\"2019-2\"",
          "\"2019-2\"",
          "\"2019-2\"",
          "\"2019-2\"",
          "\"2019-2\"",
          "\"2019-2\"",
          "\"2019-2\"",
          "\"2019-2\"",
          "\"2019-2\""
         ],
         "y": [
          85,
          403,
          379,
          547,
          343,
          346,
          45,
          302,
          178,
          758,
          491,
          687,
          1302,
          1118,
          406,
          442,
          372,
          79,
          301,
          1004,
          405,
          406,
          832,
          921,
          342,
          651,
          78,
          73,
          420,
          8,
          87,
          40,
          1022,
          1002,
          1047,
          556,
          1208,
          342,
          425,
          785,
          17,
          221,
          1124,
          619,
          655,
          1923,
          1863,
          930,
          660,
          636,
          226,
          191,
          228,
          235,
          461,
          285,
          35,
          1287,
          16,
          7,
          10,
          304,
          271,
          154,
          57,
          246,
          253,
          14,
          53,
          232,
          336,
          634,
          211,
          371,
          448,
          244,
          206,
          323,
          724,
          315,
          970,
          61,
          61,
          42,
          113,
          8,
          127,
          86,
          57,
          142,
          90,
          118,
          431,
          243,
          428,
          262,
          283,
          1240,
          294,
          520,
          914,
          213,
          259,
          72,
          424,
          432,
          311,
          139,
          130,
          271,
          22,
          226,
          142,
          136,
          353,
          248,
          122,
          147,
          63,
          180,
          294,
          173,
          48,
          68,
          171,
          312,
          172,
          46,
          100,
          86,
          114,
          79,
          32,
          53,
          111,
          13
         ]
        }
       ],
       "layout": {
        "template": {
         "data": {
          "bar": [
           {
            "error_x": {
             "color": "#2a3f5f"
            },
            "error_y": {
             "color": "#2a3f5f"
            },
            "marker": {
             "line": {
              "color": "#E5ECF6",
              "width": 0.5
             }
            },
            "type": "bar"
           }
          ],
          "barpolar": [
           {
            "marker": {
             "line": {
              "color": "#E5ECF6",
              "width": 0.5
             }
            },
            "type": "barpolar"
           }
          ],
          "carpet": [
           {
            "aaxis": {
             "endlinecolor": "#2a3f5f",
             "gridcolor": "white",
             "linecolor": "white",
             "minorgridcolor": "white",
             "startlinecolor": "#2a3f5f"
            },
            "baxis": {
             "endlinecolor": "#2a3f5f",
             "gridcolor": "white",
             "linecolor": "white",
             "minorgridcolor": "white",
             "startlinecolor": "#2a3f5f"
            },
            "type": "carpet"
           }
          ],
          "choropleth": [
           {
            "colorbar": {
             "outlinewidth": 0,
             "ticks": ""
            },
            "type": "choropleth"
           }
          ],
          "contour": [
           {
            "colorbar": {
             "outlinewidth": 0,
             "ticks": ""
            },
            "colorscale": [
             [
              0,
              "#0d0887"
             ],
             [
              0.1111111111111111,
              "#46039f"
             ],
             [
              0.2222222222222222,
              "#7201a8"
             ],
             [
              0.3333333333333333,
              "#9c179e"
             ],
             [
              0.4444444444444444,
              "#bd3786"
             ],
             [
              0.5555555555555556,
              "#d8576b"
             ],
             [
              0.6666666666666666,
              "#ed7953"
             ],
             [
              0.7777777777777778,
              "#fb9f3a"
             ],
             [
              0.8888888888888888,
              "#fdca26"
             ],
             [
              1,
              "#f0f921"
             ]
            ],
            "type": "contour"
           }
          ],
          "contourcarpet": [
           {
            "colorbar": {
             "outlinewidth": 0,
             "ticks": ""
            },
            "type": "contourcarpet"
           }
          ],
          "heatmap": [
           {
            "colorbar": {
             "outlinewidth": 0,
             "ticks": ""
            },
            "colorscale": [
             [
              0,
              "#0d0887"
             ],
             [
              0.1111111111111111,
              "#46039f"
             ],
             [
              0.2222222222222222,
              "#7201a8"
             ],
             [
              0.3333333333333333,
              "#9c179e"
             ],
             [
              0.4444444444444444,
              "#bd3786"
             ],
             [
              0.5555555555555556,
              "#d8576b"
             ],
             [
              0.6666666666666666,
              "#ed7953"
             ],
             [
              0.7777777777777778,
              "#fb9f3a"
             ],
             [
              0.8888888888888888,
              "#fdca26"
             ],
             [
              1,
              "#f0f921"
             ]
            ],
            "type": "heatmap"
           }
          ],
          "heatmapgl": [
           {
            "colorbar": {
             "outlinewidth": 0,
             "ticks": ""
            },
            "colorscale": [
             [
              0,
              "#0d0887"
             ],
             [
              0.1111111111111111,
              "#46039f"
             ],
             [
              0.2222222222222222,
              "#7201a8"
             ],
             [
              0.3333333333333333,
              "#9c179e"
             ],
             [
              0.4444444444444444,
              "#bd3786"
             ],
             [
              0.5555555555555556,
              "#d8576b"
             ],
             [
              0.6666666666666666,
              "#ed7953"
             ],
             [
              0.7777777777777778,
              "#fb9f3a"
             ],
             [
              0.8888888888888888,
              "#fdca26"
             ],
             [
              1,
              "#f0f921"
             ]
            ],
            "type": "heatmapgl"
           }
          ],
          "histogram": [
           {
            "marker": {
             "colorbar": {
              "outlinewidth": 0,
              "ticks": ""
             }
            },
            "type": "histogram"
           }
          ],
          "histogram2d": [
           {
            "colorbar": {
             "outlinewidth": 0,
             "ticks": ""
            },
            "colorscale": [
             [
              0,
              "#0d0887"
             ],
             [
              0.1111111111111111,
              "#46039f"
             ],
             [
              0.2222222222222222,
              "#7201a8"
             ],
             [
              0.3333333333333333,
              "#9c179e"
             ],
             [
              0.4444444444444444,
              "#bd3786"
             ],
             [
              0.5555555555555556,
              "#d8576b"
             ],
             [
              0.6666666666666666,
              "#ed7953"
             ],
             [
              0.7777777777777778,
              "#fb9f3a"
             ],
             [
              0.8888888888888888,
              "#fdca26"
             ],
             [
              1,
              "#f0f921"
             ]
            ],
            "type": "histogram2d"
           }
          ],
          "histogram2dcontour": [
           {
            "colorbar": {
             "outlinewidth": 0,
             "ticks": ""
            },
            "colorscale": [
             [
              0,
              "#0d0887"
             ],
             [
              0.1111111111111111,
              "#46039f"
             ],
             [
              0.2222222222222222,
              "#7201a8"
             ],
             [
              0.3333333333333333,
              "#9c179e"
             ],
             [
              0.4444444444444444,
              "#bd3786"
             ],
             [
              0.5555555555555556,
              "#d8576b"
             ],
             [
              0.6666666666666666,
              "#ed7953"
             ],
             [
              0.7777777777777778,
              "#fb9f3a"
             ],
             [
              0.8888888888888888,
              "#fdca26"
             ],
             [
              1,
              "#f0f921"
             ]
            ],
            "type": "histogram2dcontour"
           }
          ],
          "mesh3d": [
           {
            "colorbar": {
             "outlinewidth": 0,
             "ticks": ""
            },
            "type": "mesh3d"
           }
          ],
          "parcoords": [
           {
            "line": {
             "colorbar": {
              "outlinewidth": 0,
              "ticks": ""
             }
            },
            "type": "parcoords"
           }
          ],
          "scatter": [
           {
            "marker": {
             "colorbar": {
              "outlinewidth": 0,
              "ticks": ""
             }
            },
            "type": "scatter"
           }
          ],
          "scatter3d": [
           {
            "line": {
             "colorbar": {
              "outlinewidth": 0,
              "ticks": ""
             }
            },
            "marker": {
             "colorbar": {
              "outlinewidth": 0,
              "ticks": ""
             }
            },
            "type": "scatter3d"
           }
          ],
          "scattercarpet": [
           {
            "marker": {
             "colorbar": {
              "outlinewidth": 0,
              "ticks": ""
             }
            },
            "type": "scattercarpet"
           }
          ],
          "scattergeo": [
           {
            "marker": {
             "colorbar": {
              "outlinewidth": 0,
              "ticks": ""
             }
            },
            "type": "scattergeo"
           }
          ],
          "scattergl": [
           {
            "marker": {
             "colorbar": {
              "outlinewidth": 0,
              "ticks": ""
             }
            },
            "type": "scattergl"
           }
          ],
          "scattermapbox": [
           {
            "marker": {
             "colorbar": {
              "outlinewidth": 0,
              "ticks": ""
             }
            },
            "type": "scattermapbox"
           }
          ],
          "scatterpolar": [
           {
            "marker": {
             "colorbar": {
              "outlinewidth": 0,
              "ticks": ""
             }
            },
            "type": "scatterpolar"
           }
          ],
          "scatterpolargl": [
           {
            "marker": {
             "colorbar": {
              "outlinewidth": 0,
              "ticks": ""
             }
            },
            "type": "scatterpolargl"
           }
          ],
          "scatterternary": [
           {
            "marker": {
             "colorbar": {
              "outlinewidth": 0,
              "ticks": ""
             }
            },
            "type": "scatterternary"
           }
          ],
          "surface": [
           {
            "colorbar": {
             "outlinewidth": 0,
             "ticks": ""
            },
            "colorscale": [
             [
              0,
              "#0d0887"
             ],
             [
              0.1111111111111111,
              "#46039f"
             ],
             [
              0.2222222222222222,
              "#7201a8"
             ],
             [
              0.3333333333333333,
              "#9c179e"
             ],
             [
              0.4444444444444444,
              "#bd3786"
             ],
             [
              0.5555555555555556,
              "#d8576b"
             ],
             [
              0.6666666666666666,
              "#ed7953"
             ],
             [
              0.7777777777777778,
              "#fb9f3a"
             ],
             [
              0.8888888888888888,
              "#fdca26"
             ],
             [
              1,
              "#f0f921"
             ]
            ],
            "type": "surface"
           }
          ],
          "table": [
           {
            "cells": {
             "fill": {
              "color": "#EBF0F8"
             },
             "line": {
              "color": "white"
             }
            },
            "header": {
             "fill": {
              "color": "#C8D4E3"
             },
             "line": {
              "color": "white"
             }
            },
            "type": "table"
           }
          ]
         },
         "layout": {
          "annotationdefaults": {
           "arrowcolor": "#2a3f5f",
           "arrowhead": 0,
           "arrowwidth": 1
          },
          "colorscale": {
           "diverging": [
            [
             0,
             "#8e0152"
            ],
            [
             0.1,
             "#c51b7d"
            ],
            [
             0.2,
             "#de77ae"
            ],
            [
             0.3,
             "#f1b6da"
            ],
            [
             0.4,
             "#fde0ef"
            ],
            [
             0.5,
             "#f7f7f7"
            ],
            [
             0.6,
             "#e6f5d0"
            ],
            [
             0.7,
             "#b8e186"
            ],
            [
             0.8,
             "#7fbc41"
            ],
            [
             0.9,
             "#4d9221"
            ],
            [
             1,
             "#276419"
            ]
           ],
           "sequential": [
            [
             0,
             "#0d0887"
            ],
            [
             0.1111111111111111,
             "#46039f"
            ],
            [
             0.2222222222222222,
             "#7201a8"
            ],
            [
             0.3333333333333333,
             "#9c179e"
            ],
            [
             0.4444444444444444,
             "#bd3786"
            ],
            [
             0.5555555555555556,
             "#d8576b"
            ],
            [
             0.6666666666666666,
             "#ed7953"
            ],
            [
             0.7777777777777778,
             "#fb9f3a"
            ],
            [
             0.8888888888888888,
             "#fdca26"
            ],
            [
             1,
             "#f0f921"
            ]
           ],
           "sequentialminus": [
            [
             0,
             "#0d0887"
            ],
            [
             0.1111111111111111,
             "#46039f"
            ],
            [
             0.2222222222222222,
             "#7201a8"
            ],
            [
             0.3333333333333333,
             "#9c179e"
            ],
            [
             0.4444444444444444,
             "#bd3786"
            ],
            [
             0.5555555555555556,
             "#d8576b"
            ],
            [
             0.6666666666666666,
             "#ed7953"
            ],
            [
             0.7777777777777778,
             "#fb9f3a"
            ],
            [
             0.8888888888888888,
             "#fdca26"
            ],
            [
             1,
             "#f0f921"
            ]
           ]
          },
          "colorway": [
           "#636efa",
           "#EF553B",
           "#00cc96",
           "#ab63fa",
           "#FFA15A",
           "#19d3f3",
           "#FF6692",
           "#B6E880",
           "#FF97FF",
           "#FECB52"
          ],
          "font": {
           "color": "#2a3f5f"
          },
          "geo": {
           "bgcolor": "white",
           "lakecolor": "white",
           "landcolor": "#E5ECF6",
           "showlakes": true,
           "showland": true,
           "subunitcolor": "white"
          },
          "hoverlabel": {
           "align": "left"
          },
          "hovermode": "closest",
          "mapbox": {
           "style": "light"
          },
          "paper_bgcolor": "white",
          "plot_bgcolor": "#E5ECF6",
          "polar": {
           "angularaxis": {
            "gridcolor": "white",
            "linecolor": "white",
            "ticks": ""
           },
           "bgcolor": "#E5ECF6",
           "radialaxis": {
            "gridcolor": "white",
            "linecolor": "white",
            "ticks": ""
           }
          },
          "scene": {
           "xaxis": {
            "backgroundcolor": "#E5ECF6",
            "gridcolor": "white",
            "gridwidth": 2,
            "linecolor": "white",
            "showbackground": true,
            "ticks": "",
            "zerolinecolor": "white"
           },
           "yaxis": {
            "backgroundcolor": "#E5ECF6",
            "gridcolor": "white",
            "gridwidth": 2,
            "linecolor": "white",
            "showbackground": true,
            "ticks": "",
            "zerolinecolor": "white"
           },
           "zaxis": {
            "backgroundcolor": "#E5ECF6",
            "gridcolor": "white",
            "gridwidth": 2,
            "linecolor": "white",
            "showbackground": true,
            "ticks": "",
            "zerolinecolor": "white"
           }
          },
          "shapedefaults": {
           "line": {
            "color": "#2a3f5f"
           }
          },
          "ternary": {
           "aaxis": {
            "gridcolor": "white",
            "linecolor": "white",
            "ticks": ""
           },
           "baxis": {
            "gridcolor": "white",
            "linecolor": "white",
            "ticks": ""
           },
           "bgcolor": "#E5ECF6",
           "caxis": {
            "gridcolor": "white",
            "linecolor": "white",
            "ticks": ""
           }
          },
          "title": {
           "x": 0.05
          },
          "xaxis": {
           "automargin": true,
           "gridcolor": "white",
           "linecolor": "white",
           "ticks": "",
           "zerolinecolor": "white",
           "zerolinewidth": 2
          },
          "yaxis": {
           "automargin": true,
           "gridcolor": "white",
           "linecolor": "white",
           "ticks": "",
           "zerolinecolor": "white",
           "zerolinewidth": 2
          }
         }
        },
        "title": {
         "text": "Commits por semestre"
        },
        "xaxis": {
         "title": {
          "text": "Semestre"
         }
        },
        "yaxis": {
         "title": {
          "text": "Quantidade De Commits"
         },
         "zeroline": false
        }
       }
      },
      "text/html": [
       "<div>\n",
       "        \n",
       "        \n",
       "            <div id=\"8cfa5fb2-672e-43fa-984b-5fb53dafc8a9\" class=\"plotly-graph-div\" style=\"height:525px; width:100%;\"></div>\n",
       "            <script type=\"text/javascript\">\n",
       "                require([\"plotly\"], function(Plotly) {\n",
       "                    window.PLOTLYENV=window.PLOTLYENV || {};\n",
       "                    \n",
       "                if (document.getElementById(\"8cfa5fb2-672e-43fa-984b-5fb53dafc8a9\")) {\n",
       "                    Plotly.newPlot(\n",
       "                        '8cfa5fb2-672e-43fa-984b-5fb53dafc8a9',\n",
       "                        [{\"mode\": \"markers\", \"type\": \"scatter\", \"x\": [\"\\\"2016-1\\\"\", \"\\\"2016-1\\\"\", \"\\\"2016-1\\\"\", \"\\\"2016-1\\\"\", \"\\\"2016-1\\\"\", \"\\\"2016-1\\\"\", \"\\\"2016-1\\\"\", \"\\\"2016-1\\\"\", \"\\\"2016-1\\\"\", \"\\\"2016-2\\\"\", \"\\\"2016-2\\\"\", \"\\\"2016-2\\\"\", \"\\\"2016-2\\\"\", \"\\\"2016-2\\\"\", \"\\\"2016-2\\\"\", \"\\\"2016-2\\\"\", \"\\\"2016-2\\\"\", \"\\\"2016-2\\\"\", \"\\\"2016-2\\\"\", \"\\\"2017-1\\\"\", \"\\\"2017-1\\\"\", \"\\\"2017-1\\\"\", \"\\\"2017-1\\\"\", \"\\\"2017-1\\\"\", \"\\\"2017-1\\\"\", \"\\\"2017-1\\\"\", \"\\\"2017-1\\\"\", \"\\\"2017-1\\\"\", \"\\\"2017-1\\\"\", \"\\\"2017-1\\\"\", \"\\\"2017-1\\\"\", \"\\\"2017-2\\\"\", \"\\\"2017-2\\\"\", \"\\\"2017-2\\\"\", \"\\\"2017-2\\\"\", \"\\\"2017-2\\\"\", \"\\\"2017-2\\\"\", \"\\\"2017-2\\\"\", \"\\\"2017-2\\\"\", \"\\\"2017-2\\\"\", \"\\\"2017-2\\\"\", \"\\\"2017-2\\\"\", \"\\\"2018-1\\\"\", \"\\\"2018-1\\\"\", \"\\\"2018-1\\\"\", \"\\\"2018-1\\\"\", \"\\\"2018-1\\\"\", \"\\\"2018-1\\\"\", \"\\\"2018-1\\\"\", \"\\\"2018-1\\\"\", \"\\\"2018-1\\\"\", \"\\\"2018-1\\\"\", \"\\\"2018-1\\\"\", \"\\\"2018-1\\\"\", \"\\\"2018-1\\\"\", \"\\\"2018-1\\\"\", \"\\\"2018-1\\\"\", \"\\\"2018-1\\\"\", \"\\\"2018-1\\\"\", \"\\\"2018-1\\\"\", \"\\\"2018-1\\\"\", \"\\\"2018-1\\\"\", \"\\\"2018-1\\\"\", \"\\\"2018-1\\\"\", \"\\\"2018-1\\\"\", \"\\\"2018-1\\\"\", \"\\\"2018-1\\\"\", \"\\\"2018-1\\\"\", \"\\\"2018-1\\\"\", \"\\\"2018-1\\\"\", \"\\\"2018-2\\\"\", \"\\\"2018-2\\\"\", \"\\\"2018-2\\\"\", \"\\\"2018-2\\\"\", \"\\\"2018-2\\\"\", \"\\\"2018-2\\\"\", \"\\\"2018-2\\\"\", \"\\\"2018-2\\\"\", \"\\\"2018-2\\\"\", \"\\\"2018-2\\\"\", \"\\\"2018-2\\\"\", \"\\\"2018-2\\\"\", \"\\\"2018-2\\\"\", \"\\\"2018-2\\\"\", \"\\\"2018-2\\\"\", \"\\\"2018-2\\\"\", \"\\\"2018-2\\\"\", \"\\\"2018-2\\\"\", \"\\\"2018-2\\\"\", \"\\\"2018-2\\\"\", \"\\\"2018-2\\\"\", \"\\\"2018-2\\\"\", \"\\\"2019-1\\\"\", \"\\\"2019-1\\\"\", \"\\\"2019-1\\\"\", \"\\\"2019-1\\\"\", \"\\\"2019-1\\\"\", \"\\\"2019-1\\\"\", \"\\\"2019-1\\\"\", \"\\\"2019-1\\\"\", \"\\\"2019-1\\\"\", \"\\\"2019-1\\\"\", \"\\\"2019-1\\\"\", \"\\\"2019-1\\\"\", \"\\\"2019-1\\\"\", \"\\\"2019-1\\\"\", \"\\\"2019-1\\\"\", \"\\\"2019-1\\\"\", \"\\\"2019-1\\\"\", \"\\\"2019-1\\\"\", \"\\\"2019-1\\\"\", \"\\\"2019-1\\\"\", \"\\\"2019-2\\\"\", \"\\\"2019-2\\\"\", \"\\\"2019-2\\\"\", \"\\\"2019-2\\\"\", \"\\\"2019-2\\\"\", \"\\\"2019-2\\\"\", \"\\\"2019-2\\\"\", \"\\\"2019-2\\\"\", \"\\\"2019-2\\\"\", \"\\\"2019-2\\\"\", \"\\\"2019-2\\\"\", \"\\\"2019-2\\\"\", \"\\\"2019-2\\\"\", \"\\\"2019-2\\\"\", \"\\\"2019-2\\\"\", \"\\\"2019-2\\\"\", \"\\\"2019-2\\\"\", \"\\\"2019-2\\\"\", \"\\\"2019-2\\\"\", \"\\\"2019-2\\\"\", \"\\\"2019-2\\\"\", \"\\\"2019-2\\\"\", \"\\\"2019-2\\\"\", \"\\\"2019-2\\\"\"], \"y\": [85, 403, 379, 547, 343, 346, 45, 302, 178, 758, 491, 687, 1302, 1118, 406, 442, 372, 79, 301, 1004, 405, 406, 832, 921, 342, 651, 78, 73, 420, 8, 87, 40, 1022, 1002, 1047, 556, 1208, 342, 425, 785, 17, 221, 1124, 619, 655, 1923, 1863, 930, 660, 636, 226, 191, 228, 235, 461, 285, 35, 1287, 16, 7, 10, 304, 271, 154, 57, 246, 253, 14, 53, 232, 336, 634, 211, 371, 448, 244, 206, 323, 724, 315, 970, 61, 61, 42, 113, 8, 127, 86, 57, 142, 90, 118, 431, 243, 428, 262, 283, 1240, 294, 520, 914, 213, 259, 72, 424, 432, 311, 139, 130, 271, 22, 226, 142, 136, 353, 248, 122, 147, 63, 180, 294, 173, 48, 68, 171, 312, 172, 46, 100, 86, 114, 79, 32, 53, 111, 13]}],\n",
       "                        {\"template\": {\"data\": {\"bar\": [{\"error_x\": {\"color\": \"#2a3f5f\"}, \"error_y\": {\"color\": \"#2a3f5f\"}, \"marker\": {\"line\": {\"color\": \"#E5ECF6\", \"width\": 0.5}}, \"type\": \"bar\"}], \"barpolar\": [{\"marker\": {\"line\": {\"color\": \"#E5ECF6\", \"width\": 0.5}}, \"type\": \"barpolar\"}], \"carpet\": [{\"aaxis\": {\"endlinecolor\": \"#2a3f5f\", \"gridcolor\": \"white\", \"linecolor\": \"white\", \"minorgridcolor\": \"white\", \"startlinecolor\": \"#2a3f5f\"}, \"baxis\": {\"endlinecolor\": \"#2a3f5f\", \"gridcolor\": \"white\", \"linecolor\": \"white\", \"minorgridcolor\": \"white\", \"startlinecolor\": \"#2a3f5f\"}, \"type\": \"carpet\"}], \"choropleth\": [{\"colorbar\": {\"outlinewidth\": 0, \"ticks\": \"\"}, \"type\": \"choropleth\"}], \"contour\": [{\"colorbar\": {\"outlinewidth\": 0, \"ticks\": \"\"}, \"colorscale\": [[0.0, \"#0d0887\"], [0.1111111111111111, \"#46039f\"], [0.2222222222222222, \"#7201a8\"], [0.3333333333333333, \"#9c179e\"], [0.4444444444444444, \"#bd3786\"], [0.5555555555555556, \"#d8576b\"], [0.6666666666666666, \"#ed7953\"], [0.7777777777777778, \"#fb9f3a\"], [0.8888888888888888, \"#fdca26\"], [1.0, \"#f0f921\"]], \"type\": \"contour\"}], \"contourcarpet\": [{\"colorbar\": {\"outlinewidth\": 0, \"ticks\": \"\"}, \"type\": \"contourcarpet\"}], \"heatmap\": [{\"colorbar\": {\"outlinewidth\": 0, \"ticks\": \"\"}, \"colorscale\": [[0.0, \"#0d0887\"], [0.1111111111111111, \"#46039f\"], [0.2222222222222222, \"#7201a8\"], [0.3333333333333333, \"#9c179e\"], [0.4444444444444444, \"#bd3786\"], [0.5555555555555556, \"#d8576b\"], [0.6666666666666666, \"#ed7953\"], [0.7777777777777778, \"#fb9f3a\"], [0.8888888888888888, \"#fdca26\"], [1.0, \"#f0f921\"]], \"type\": \"heatmap\"}], \"heatmapgl\": [{\"colorbar\": {\"outlinewidth\": 0, \"ticks\": \"\"}, \"colorscale\": [[0.0, \"#0d0887\"], [0.1111111111111111, \"#46039f\"], [0.2222222222222222, \"#7201a8\"], [0.3333333333333333, \"#9c179e\"], [0.4444444444444444, \"#bd3786\"], [0.5555555555555556, \"#d8576b\"], [0.6666666666666666, \"#ed7953\"], [0.7777777777777778, \"#fb9f3a\"], [0.8888888888888888, \"#fdca26\"], [1.0, \"#f0f921\"]], \"type\": \"heatmapgl\"}], \"histogram\": [{\"marker\": {\"colorbar\": {\"outlinewidth\": 0, \"ticks\": \"\"}}, \"type\": \"histogram\"}], \"histogram2d\": [{\"colorbar\": {\"outlinewidth\": 0, \"ticks\": \"\"}, \"colorscale\": [[0.0, \"#0d0887\"], [0.1111111111111111, \"#46039f\"], [0.2222222222222222, \"#7201a8\"], [0.3333333333333333, \"#9c179e\"], [0.4444444444444444, \"#bd3786\"], [0.5555555555555556, \"#d8576b\"], [0.6666666666666666, \"#ed7953\"], [0.7777777777777778, \"#fb9f3a\"], [0.8888888888888888, \"#fdca26\"], [1.0, \"#f0f921\"]], \"type\": \"histogram2d\"}], \"histogram2dcontour\": [{\"colorbar\": {\"outlinewidth\": 0, \"ticks\": \"\"}, \"colorscale\": [[0.0, \"#0d0887\"], [0.1111111111111111, \"#46039f\"], [0.2222222222222222, \"#7201a8\"], [0.3333333333333333, \"#9c179e\"], [0.4444444444444444, \"#bd3786\"], [0.5555555555555556, \"#d8576b\"], [0.6666666666666666, \"#ed7953\"], [0.7777777777777778, \"#fb9f3a\"], [0.8888888888888888, \"#fdca26\"], [1.0, \"#f0f921\"]], \"type\": \"histogram2dcontour\"}], \"mesh3d\": [{\"colorbar\": {\"outlinewidth\": 0, \"ticks\": \"\"}, \"type\": \"mesh3d\"}], \"parcoords\": [{\"line\": {\"colorbar\": {\"outlinewidth\": 0, \"ticks\": \"\"}}, \"type\": \"parcoords\"}], \"scatter\": [{\"marker\": {\"colorbar\": {\"outlinewidth\": 0, \"ticks\": \"\"}}, \"type\": \"scatter\"}], \"scatter3d\": [{\"line\": {\"colorbar\": {\"outlinewidth\": 0, \"ticks\": \"\"}}, \"marker\": {\"colorbar\": {\"outlinewidth\": 0, \"ticks\": \"\"}}, \"type\": \"scatter3d\"}], \"scattercarpet\": [{\"marker\": {\"colorbar\": {\"outlinewidth\": 0, \"ticks\": \"\"}}, \"type\": \"scattercarpet\"}], \"scattergeo\": [{\"marker\": {\"colorbar\": {\"outlinewidth\": 0, \"ticks\": \"\"}}, \"type\": \"scattergeo\"}], \"scattergl\": [{\"marker\": {\"colorbar\": {\"outlinewidth\": 0, \"ticks\": \"\"}}, \"type\": \"scattergl\"}], \"scattermapbox\": [{\"marker\": {\"colorbar\": {\"outlinewidth\": 0, \"ticks\": \"\"}}, \"type\": \"scattermapbox\"}], \"scatterpolar\": [{\"marker\": {\"colorbar\": {\"outlinewidth\": 0, \"ticks\": \"\"}}, \"type\": \"scatterpolar\"}], \"scatterpolargl\": [{\"marker\": {\"colorbar\": {\"outlinewidth\": 0, \"ticks\": \"\"}}, \"type\": \"scatterpolargl\"}], \"scatterternary\": [{\"marker\": {\"colorbar\": {\"outlinewidth\": 0, \"ticks\": \"\"}}, \"type\": \"scatterternary\"}], \"surface\": [{\"colorbar\": {\"outlinewidth\": 0, \"ticks\": \"\"}, \"colorscale\": [[0.0, \"#0d0887\"], [0.1111111111111111, \"#46039f\"], [0.2222222222222222, \"#7201a8\"], [0.3333333333333333, \"#9c179e\"], [0.4444444444444444, \"#bd3786\"], [0.5555555555555556, \"#d8576b\"], [0.6666666666666666, \"#ed7953\"], [0.7777777777777778, \"#fb9f3a\"], [0.8888888888888888, \"#fdca26\"], [1.0, \"#f0f921\"]], \"type\": \"surface\"}], \"table\": [{\"cells\": {\"fill\": {\"color\": \"#EBF0F8\"}, \"line\": {\"color\": \"white\"}}, \"header\": {\"fill\": {\"color\": \"#C8D4E3\"}, \"line\": {\"color\": \"white\"}}, \"type\": \"table\"}]}, \"layout\": {\"annotationdefaults\": {\"arrowcolor\": \"#2a3f5f\", \"arrowhead\": 0, \"arrowwidth\": 1}, \"colorscale\": {\"diverging\": [[0, \"#8e0152\"], [0.1, \"#c51b7d\"], [0.2, \"#de77ae\"], [0.3, \"#f1b6da\"], [0.4, \"#fde0ef\"], [0.5, \"#f7f7f7\"], [0.6, \"#e6f5d0\"], [0.7, \"#b8e186\"], [0.8, \"#7fbc41\"], [0.9, \"#4d9221\"], [1, \"#276419\"]], \"sequential\": [[0.0, \"#0d0887\"], [0.1111111111111111, \"#46039f\"], [0.2222222222222222, \"#7201a8\"], [0.3333333333333333, \"#9c179e\"], [0.4444444444444444, \"#bd3786\"], [0.5555555555555556, \"#d8576b\"], [0.6666666666666666, \"#ed7953\"], [0.7777777777777778, \"#fb9f3a\"], [0.8888888888888888, \"#fdca26\"], [1.0, \"#f0f921\"]], \"sequentialminus\": [[0.0, \"#0d0887\"], [0.1111111111111111, \"#46039f\"], [0.2222222222222222, \"#7201a8\"], [0.3333333333333333, \"#9c179e\"], [0.4444444444444444, \"#bd3786\"], [0.5555555555555556, \"#d8576b\"], [0.6666666666666666, \"#ed7953\"], [0.7777777777777778, \"#fb9f3a\"], [0.8888888888888888, \"#fdca26\"], [1.0, \"#f0f921\"]]}, \"colorway\": [\"#636efa\", \"#EF553B\", \"#00cc96\", \"#ab63fa\", \"#FFA15A\", \"#19d3f3\", \"#FF6692\", \"#B6E880\", \"#FF97FF\", \"#FECB52\"], \"font\": {\"color\": \"#2a3f5f\"}, \"geo\": {\"bgcolor\": \"white\", \"lakecolor\": \"white\", \"landcolor\": \"#E5ECF6\", \"showlakes\": true, \"showland\": true, \"subunitcolor\": \"white\"}, \"hoverlabel\": {\"align\": \"left\"}, \"hovermode\": \"closest\", \"mapbox\": {\"style\": \"light\"}, \"paper_bgcolor\": \"white\", \"plot_bgcolor\": \"#E5ECF6\", \"polar\": {\"angularaxis\": {\"gridcolor\": \"white\", \"linecolor\": \"white\", \"ticks\": \"\"}, \"bgcolor\": \"#E5ECF6\", \"radialaxis\": {\"gridcolor\": \"white\", \"linecolor\": \"white\", \"ticks\": \"\"}}, \"scene\": {\"xaxis\": {\"backgroundcolor\": \"#E5ECF6\", \"gridcolor\": \"white\", \"gridwidth\": 2, \"linecolor\": \"white\", \"showbackground\": true, \"ticks\": \"\", \"zerolinecolor\": \"white\"}, \"yaxis\": {\"backgroundcolor\": \"#E5ECF6\", \"gridcolor\": \"white\", \"gridwidth\": 2, \"linecolor\": \"white\", \"showbackground\": true, \"ticks\": \"\", \"zerolinecolor\": \"white\"}, \"zaxis\": {\"backgroundcolor\": \"#E5ECF6\", \"gridcolor\": \"white\", \"gridwidth\": 2, \"linecolor\": \"white\", \"showbackground\": true, \"ticks\": \"\", \"zerolinecolor\": \"white\"}}, \"shapedefaults\": {\"line\": {\"color\": \"#2a3f5f\"}}, \"ternary\": {\"aaxis\": {\"gridcolor\": \"white\", \"linecolor\": \"white\", \"ticks\": \"\"}, \"baxis\": {\"gridcolor\": \"white\", \"linecolor\": \"white\", \"ticks\": \"\"}, \"bgcolor\": \"#E5ECF6\", \"caxis\": {\"gridcolor\": \"white\", \"linecolor\": \"white\", \"ticks\": \"\"}}, \"title\": {\"x\": 0.05}, \"xaxis\": {\"automargin\": true, \"gridcolor\": \"white\", \"linecolor\": \"white\", \"ticks\": \"\", \"zerolinecolor\": \"white\", \"zerolinewidth\": 2}, \"yaxis\": {\"automargin\": true, \"gridcolor\": \"white\", \"linecolor\": \"white\", \"ticks\": \"\", \"zerolinecolor\": \"white\", \"zerolinewidth\": 2}}}, \"title\": {\"text\": \"Commits por semestre\"}, \"xaxis\": {\"title\": {\"text\": \"Semestre\"}}, \"yaxis\": {\"title\": {\"text\": \"Quantidade De Commits\"}, \"zeroline\": false}},\n",
       "                        {\"responsive\": true}\n",
       "                    ).then(function(){\n",
       "                            \n",
       "var gd = document.getElementById('8cfa5fb2-672e-43fa-984b-5fb53dafc8a9');\n",
       "var x = new MutationObserver(function (mutations, observer) {{\n",
       "        var display = window.getComputedStyle(gd).display;\n",
       "        if (!display || display === 'none') {{\n",
       "            console.log([gd, 'removed!']);\n",
       "            Plotly.purge(gd);\n",
       "            observer.disconnect();\n",
       "        }}\n",
       "}});\n",
       "\n",
       "// Listen for the removal of the full notebook cells\n",
       "var notebookContainer = gd.closest('#notebook-container');\n",
       "if (notebookContainer) {{\n",
       "    x.observe(notebookContainer, {childList: true});\n",
       "}}\n",
       "\n",
       "// Listen for the clearing of the current output cell\n",
       "var outputEl = gd.closest('.output');\n",
       "if (outputEl) {{\n",
       "    x.observe(outputEl, {childList: true});\n",
       "}}\n",
       "\n",
       "                        })\n",
       "                };\n",
       "                });\n",
       "            </script>\n",
       "        </div>"
      ]
     },
     "metadata": {},
     "output_type": "display_data"
    }
   ],
   "source": [
    "layout = {\n",
    "    \"title\": \"Commits por semestre\",\n",
    "    \"xaxis\": {\"title\": \"Semestre\"}, \n",
    "    \"yaxis\": {\n",
    "        \"title\": \"Quantidade De Commits\", \n",
    "        \"zeroline\": False\n",
    "    }\n",
    "}\n",
    "\n",
    "fig = go.Figure(data=go.Scatter(x=repo_names, y=repo_amounts, mode='markers'), layout=layout)\n",
    "\n",
    "fig.show()\n"
   ]
  },
  {
   "cell_type": "code",
   "execution_count": null,
   "metadata": {},
   "outputs": [],
   "source": []
  }
 ],
 "metadata": {
  "kernelspec": {
   "display_name": "Python 3",
   "language": "python",
   "name": "python3"
  },
  "language_info": {
   "codemirror_mode": {
    "name": "ipython",
    "version": 3
   },
   "file_extension": ".py",
   "mimetype": "text/x-python",
   "name": "python",
   "nbconvert_exporter": "python",
   "pygments_lexer": "ipython3",
   "version": "3.7.4"
  }
 },
 "nbformat": 4,
 "nbformat_minor": 2
}
