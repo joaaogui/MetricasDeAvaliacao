{
 "cells": [
  {
   "cell_type": "code",
   "execution_count": 7,
   "metadata": {},
   "outputs": [],
   "source": [
    "from github import Github\n",
    "from datetime import datetime, timedelta\n",
    "import plotly.plotly as py\n",
    "import plotly\n",
    "from plotly.graph_objs import *\n",
    "from collections import Counter"
   ]
  },
  {
   "cell_type": "code",
   "execution_count": 41,
   "metadata": {},
   "outputs": [],
   "source": [
    "# Create a Github instance:\n",
    "g = Github(\"<github_token>\")\n",
    "\n",
    "# Find my user\n",
    "user = g.get_user()\n",
    "\n",
    "# Find the organization I want\n",
    "# org = g.get_organization(\"fga-eps-mds\")\n",
    "# org = g.get_organization(\"CarDefense\")\n",
    "# org = g.get_organization(\"PDF2CASH\")\n",
    "# org = g.get_organization(\"Kalkuli\")\n",
    "org = g.get_organization(\"BotLino\")\n",
    "\n",
    "\n",
    "\n",
    "# Get all repos from my account, including from organizations\n",
    "repos = org.get_repos()\n",
    "\n",
    "# Get the repo, either from user or organization, uncomment the repo you want. (Only one repo can be uncommented)\n",
    "\n",
    "# repo = org.get_repo(\"Falko-2017.2-BackEnd\")\n",
    "# repo = org.get_repo(\"2017.1-OndeE-UnB\")\n",
    "# repo = org.get_repo(\"2017.2-Receituario-Medico\")\n",
    "# repo = org.get_repo(\"2017.2-Deputinder\")\n",
    "# repo = org.get_repo(\"2017.2-QueroCultura\")\n",
    "# repo = org.get_repo(\"2016.2-MissaoNascente\")\n",
    "# repo = org.get_repo(\"2017.2-Classificacao-de-Risco-Pediatrico\")\n",
    "# repo = org.get_repo(\"2017.1-PlataformaJogosUnB\")\n",
    "# repo = org.get_repo(\"2016.1-AbasteceAqui\")\n",
    "# repo = org.get_repo(\"2017.1-Trezentos\")\n",
    "# repo = user.get_repo(\"timer\")\n",
    "# repo = user.get_repo(\"pesquini\")\n",
    "chosen_repos = []\n",
    "for repo in repos:\n",
    "#     if \"2018.2\" in repo.name:\n",
    "    chosen_repos.append(repo)"
   ]
  },
  {
   "cell_type": "code",
   "execution_count": 42,
   "metadata": {},
   "outputs": [],
   "source": [
    "#\n",
    "# 2018.1\n",
    "#\n",
    "# repo = org.get_repo(\"2018.1_Gerencia_mais\")\n",
    "# repo = org.get_repo(\"2018.1-Dr-Down\")\n",
    "# repo = org.get_repo(\"2018.1-Dulce_App\")\n",
    "# repo = org.get_repo(\"2018.1-TropicalHazards-BI\")\n",
    "# repo = org.get_repo(\"2018.1-TropicalHazards-BI-FrontEnd\")\n",
    "# repo = org.get_repo(\"2018.1_Nexte\")\n",
    "# repo = org.get_repo(\"2018.1-Reabilitacao-Motora\")\n",
    "# repo = org.get_repo(\"2018.1-VoxPop-WebApp\")\n",
    "# repo = org.get_repo(\"2018.1-IncluCare_API\")\n",
    "# repo = org.get_repo(\"2018.1-IncluCare\")\n",
    "# repo = org.get_repo(\"2018.1-Lacos-da-Alegria\")\n",
    "# repo = org.get_repo(\"2018.1-VoxPop-API\")\n",
    "# repo = org.get_repo(\"2018.1-Cardinals\")\n",
    "# repo = org.get_repo(\"2018.1-Dulce_API\")\n",
    "# repo = org.get_repo(\"2018.1-Lacos-da-Alegria-API\")\n"
   ]
  },
  {
   "cell_type": "code",
   "execution_count": 43,
   "metadata": {},
   "outputs": [
    {
     "name": "stdout",
     "output_type": "stream",
     "text": [
      "[]\n",
      "[]\n"
     ]
    },
    {
     "name": "stderr",
     "output_type": "stream",
     "text": [
      "/home/joao/.local/lib/python3.6/site-packages/plotly/offline/offline.py:466: UserWarning:\n",
      "\n",
      "Your filename `Active Time of Issue` didn't end with .html. Adding .html to the end of your file.\n",
      "\n"
     ]
    },
    {
     "name": "stdout",
     "output_type": "stream",
     "text": [
      "[]\n",
      "[]\n"
     ]
    },
    {
     "name": "stderr",
     "output_type": "stream",
     "text": [
      "/home/joao/.local/lib/python3.6/site-packages/plotly/offline/offline.py:466: UserWarning:\n",
      "\n",
      "Your filename `Active Time of Issue` didn't end with .html. Adding .html to the end of your file.\n",
      "\n"
     ]
    },
    {
     "name": "stdout",
     "output_type": "stream",
     "text": [
      "[]\n",
      "[]\n"
     ]
    },
    {
     "name": "stderr",
     "output_type": "stream",
     "text": [
      "/home/joao/.local/lib/python3.6/site-packages/plotly/offline/offline.py:466: UserWarning:\n",
      "\n",
      "Your filename `Active Time of Issue` didn't end with .html. Adding .html to the end of your file.\n",
      "\n"
     ]
    },
    {
     "name": "stdout",
     "output_type": "stream",
     "text": [
      "[]\n",
      "[]\n"
     ]
    },
    {
     "name": "stderr",
     "output_type": "stream",
     "text": [
      "/home/joao/.local/lib/python3.6/site-packages/plotly/offline/offline.py:466: UserWarning:\n",
      "\n",
      "Your filename `Active Time of Issue` didn't end with .html. Adding .html to the end of your file.\n",
      "\n"
     ]
    },
    {
     "name": "stdout",
     "output_type": "stream",
     "text": [
      "[]\n",
      "[]\n"
     ]
    },
    {
     "name": "stderr",
     "output_type": "stream",
     "text": [
      "/home/joao/.local/lib/python3.6/site-packages/plotly/offline/offline.py:466: UserWarning:\n",
      "\n",
      "Your filename `Active Time of Issue` didn't end with .html. Adding .html to the end of your file.\n",
      "\n"
     ]
    }
   ],
   "source": [
    "for repo in chosen_repos:\n",
    "    issues = repo.get_issues(state=\"all\")\n",
    "    all_issues = []\n",
    "    time_open = Counter()\n",
    "\n",
    "\n",
    "    for issue in issues:\n",
    "        if issue.pull_request == None:\n",
    "            created_time = issue.created_at - timedelta(hours=2)\n",
    "            if issue.state == \"closed\":\n",
    "                closed_time = issue.closed_at - timedelta(hours=2)\n",
    "            else:\n",
    "                closed_time = datetime.now()\n",
    "            all_issues.append(issue)\n",
    "\n",
    "            time_open[(closed_time - created_time).days] += 1\n",
    "    days = list(time_open.keys())\n",
    "    days.sort()\n",
    "    print(days)\n",
    "\n",
    "    time_open = sorted(time_open.items())\n",
    "    amount = [x[1] for x in time_open]\n",
    "    print(amount)\n",
    "    if len(amount) > 0:\n",
    "        mean = sum(amount)/len(amount)\n",
    "\n",
    "    label = repo.name\n",
    "    name = repo.name.replace('2018.2-','') \n",
    "\n",
    "    # Setting up plotly\n",
    "    plotly.tools.set_credentials_file(username='joaaogui', api_key='2TfVhKWEO6rpuxlj7c6R')\n",
    "    # Setting the privacy of the chart\n",
    "    plotly.tools.set_config_file(world_readable=True, sharing='public')\n",
    "\n",
    "    data = [Bar(x=days,\n",
    "                y=amount)]\n",
    "\n",
    "    title1 = \"Active time of issues in project - \" + label + \" - Média: \" + str(mean)\n",
    "\n",
    "    layout = Layout(title=title1,\n",
    "                    xaxis=dict(title='Days the issue was active'),\n",
    "                    yaxis=dict(title='Amount of issues'))\n",
    "\n",
    "    chart = Figure(data=data, layout=layout)\n",
    "\n",
    "#     py.iplot(chart, filename='basic_bar')\n",
    "    \n",
    "    \n",
    "    plotly.offline.plot(chart, filename = 'Active Time of Issue', auto_open=True,\n",
    "                        image_width=1280, image_height=800,\n",
    "                        image_filename=name , image='svg')\n",
    "    "
   ]
  },
  {
   "cell_type": "code",
   "execution_count": 27,
   "metadata": {},
   "outputs": [],
   "source": [
    "issues = repo.get_issues(state=\"all\")\n",
    "all_issues = []\n",
    "time_open = Counter()\n",
    "\n",
    "\n",
    "for issue in issues:\n",
    "    if issue.pull_request == None:\n",
    "        created_time = issue.created_at - timedelta(hours=2)\n",
    "        if issue.state == \"closed\":\n",
    "            closed_time = issue.closed_at - timedelta(hours=2)\n",
    "        else:\n",
    "            closed_time = datetime.now()\n",
    "        all_issues.append(issue)\n",
    "        \n",
    "        time_open[(closed_time - created_time).days] += 1"
   ]
  },
  {
   "cell_type": "code",
   "execution_count": 28,
   "metadata": {},
   "outputs": [
    {
     "name": "stdout",
     "output_type": "stream",
     "text": [
      "[0, 1, 2, 3, 4, 5, 6, 7, 9, 10, 11, 13, 15, 16, 22, 24, 25, 27, 30, 31, 39, 48, 49, 54, 66, 69, 99, 104, 107, 124, 146, 163, 181]\n",
      "[23, 4, 2, 12, 2, 3, 3, 1, 1, 3, 1, 1, 2, 1, 1, 3, 2, 1, 1, 1, 2, 6, 1, 1, 1, 1, 1, 1, 2, 1, 1, 2, 1]\n",
      "2018.1-IncluCare_API\n"
     ]
    }
   ],
   "source": [
    "days = list(time_open.keys())\n",
    "days.sort()\n",
    "print(days)\n",
    "\n",
    "time_open = sorted(time_open.items())\n",
    "amount = [x[1] for x in time_open]\n",
    "print(amount)\n",
    "if len(amount) > 0:\n",
    "    mean = sum(amount)/len(amount)\n",
    "\n",
    "label = repo.name\n",
    "\n",
    "print(label)\n",
    "# print(mean)"
   ]
  },
  {
   "cell_type": "code",
   "execution_count": 98,
   "metadata": {},
   "outputs": [
    {
     "data": {
      "text/html": [
       "<iframe id=\"igraph\" scrolling=\"no\" style=\"border:none;\" seamless=\"seamless\" src=\"https://plot.ly/~joaaogui/93.embed\" height=\"525px\" width=\"100%\"></iframe>"
      ],
      "text/plain": [
       "<plotly.tools.PlotlyDisplay object>"
      ]
     },
     "execution_count": 98,
     "metadata": {},
     "output_type": "execute_result"
    }
   ],
   "source": [
    "# Setting up plotly\n",
    "plotly.tools.set_credentials_file(username='joaaogui', api_key='2TfVhKWEO6rpuxlj7c6R')\n",
    "# Setting the privacy of the chart\n",
    "plotly.tools.set_config_file(world_readable=True, sharing='public')\n",
    "\n",
    "data = [Bar(x=days,\n",
    "            y=amount)]\n",
    "\n",
    "title1 = \"Active time of issues in project - \" + label[7:] + \" - Média: \" + str(mean)\n",
    "\n",
    "layout = Layout(title=title1,\n",
    "                xaxis=dict(title='Days the issue was active'),\n",
    "                yaxis=dict(title='Amount of issues'))\n",
    "\n",
    "chart = Figure(data=data, layout=layout)\n",
    "\n",
    "py.iplot(chart, filename='basic_bar')"
   ]
  },
  {
   "cell_type": "code",
   "execution_count": null,
   "metadata": {},
   "outputs": [],
   "source": []
  }
 ],
 "metadata": {
  "kernelspec": {
   "display_name": "Python 3",
   "language": "python",
   "name": "python3"
  },
  "language_info": {
   "codemirror_mode": {
    "name": "ipython",
    "version": 3
   },
   "file_extension": ".py",
   "mimetype": "text/x-python",
   "name": "python",
   "nbconvert_exporter": "python",
   "pygments_lexer": "ipython3",
   "version": "3.6.6"
  }
 },
 "nbformat": 4,
 "nbformat_minor": 2
}
