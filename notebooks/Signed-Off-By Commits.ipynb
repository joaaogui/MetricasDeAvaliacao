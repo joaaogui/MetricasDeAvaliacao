{
 "cells": [
  {
   "cell_type": "code",
   "execution_count": 1,
   "metadata": {},
   "outputs": [],
   "source": [
    "from github import Github\n",
    "import plotly\n",
    "import plotly.plotly as py\n",
    "from plotly.graph_objs import *\n",
    "from collections import *\n",
    "from pprint import pprint\n",
    "from datetime import datetime, timedelta\n",
    "import matplotlib.pyplot as plt\n",
    "from IPython.display import Image"
   ]
  },
  {
   "cell_type": "code",
   "execution_count": 10,
   "metadata": {},
   "outputs": [],
   "source": [
    "# Create a Github instance:\n",
    "g = Github(\"<github_token>\")\n",
    "\n",
    "# Find my user\n",
    "user = g.get_user()\n",
    "\n",
    "# Find the organization I want\n",
    "# org = g.get_organization(\"fga-eps-mds\")\n",
    "# org = g.get_organization(\"CarDefense\")\n",
    "# # org = g.get_organization(\"PDF2CASH\")\n",
    "# org = g.get_organization(\"Kalkuli\")\n",
    "org = g.get_organization(\"BotLino\")\n",
    "\n",
    "\n",
    "\n",
    "# Get all repos from my account, including from organizations\n",
    "repos = org.get_repos()\n",
    "\n",
    "# Get the repo, either from user or organization, uncomment the repo you want. (Only one repo can be uncommented)\n",
    "\n",
    "# repo = org.get_repo(\"Falko-2017.2-BackEnd\")\n",
    "# repo = org.get_repo(\"2017.1-OndeE-UnB\")\n",
    "# repo = org.get_repo(\"2017.2-Receituario-Medico\")\n",
    "# repo = org.get_repo(\"2017.2-Deputinder\")\n",
    "# repo = org.get_repo(\"2017.2-QueroCultura\")\n",
    "# repo = org.get_repo(\"2016.2-MissaoNascente\")\n",
    "# repo = org.get_repo(\"2017.2-Classificacao-de-Risco-Pediatrico\")\n",
    "# repo = org.get_repo(\"2017.1-PlataformaJogosUnB\")\n",
    "# repo = org.get_repo(\"2016.1-AbasteceAqui\")\n",
    "# repo = org.get_repo(\"2017.1-Trezentos\")\n",
    "# repo = user.get_repo(\"timer\")\n",
    "# repo = user.get_repo(\"pesquini\")\n",
    "chosen_repos = []\n",
    "for repo in repos:\n",
    "#     if \"2018.2\" in repo.name:\n",
    "    chosen_repos.append(repo)"
   ]
  },
  {
   "cell_type": "code",
   "execution_count": 11,
   "metadata": {},
   "outputs": [
    {
     "name": "stdout",
     "output_type": "stream",
     "text": [
      "Lino-Alerta\n"
     ]
    },
    {
     "name": "stderr",
     "output_type": "stream",
     "text": [
      "/home/joao/.local/lib/python3.6/site-packages/plotly/graph_objs/_deprecations.py:39: DeprecationWarning:\n",
      "\n",
      "plotly.graph_objs.Data is deprecated.\n",
      "Please replace it with a list or tuple of instances of the following types\n",
      "  - plotly.graph_objs.Scatter\n",
      "  - plotly.graph_objs.Bar\n",
      "  - plotly.graph_objs.Area\n",
      "  - plotly.graph_objs.Histogram\n",
      "  - etc.\n",
      "\n",
      "\n",
      "/home/joao/.local/lib/python3.6/site-packages/plotly/offline/offline.py:466: UserWarning:\n",
      "\n",
      "Your filename `Signed-off-by whitout merges` didn't end with .html. Adding .html to the end of your file.\n",
      "\n"
     ]
    },
    {
     "name": "stdout",
     "output_type": "stream",
     "text": [
      "Lino-API-Mensageiros\n"
     ]
    },
    {
     "name": "stderr",
     "output_type": "stream",
     "text": [
      "/home/joao/.local/lib/python3.6/site-packages/plotly/graph_objs/_deprecations.py:39: DeprecationWarning:\n",
      "\n",
      "plotly.graph_objs.Data is deprecated.\n",
      "Please replace it with a list or tuple of instances of the following types\n",
      "  - plotly.graph_objs.Scatter\n",
      "  - plotly.graph_objs.Bar\n",
      "  - plotly.graph_objs.Area\n",
      "  - plotly.graph_objs.Histogram\n",
      "  - etc.\n",
      "\n",
      "\n",
      "/home/joao/.local/lib/python3.6/site-packages/plotly/offline/offline.py:466: UserWarning:\n",
      "\n",
      "Your filename `Signed-off-by whitout merges` didn't end with .html. Adding .html to the end of your file.\n",
      "\n"
     ]
    },
    {
     "name": "stdout",
     "output_type": "stream",
     "text": [
      "Lino-WebCrawler\n"
     ]
    },
    {
     "name": "stderr",
     "output_type": "stream",
     "text": [
      "/home/joao/.local/lib/python3.6/site-packages/plotly/graph_objs/_deprecations.py:39: DeprecationWarning:\n",
      "\n",
      "plotly.graph_objs.Data is deprecated.\n",
      "Please replace it with a list or tuple of instances of the following types\n",
      "  - plotly.graph_objs.Scatter\n",
      "  - plotly.graph_objs.Bar\n",
      "  - plotly.graph_objs.Area\n",
      "  - plotly.graph_objs.Histogram\n",
      "  - etc.\n",
      "\n",
      "\n",
      "/home/joao/.local/lib/python3.6/site-packages/plotly/offline/offline.py:466: UserWarning:\n",
      "\n",
      "Your filename `Signed-off-by whitout merges` didn't end with .html. Adding .html to the end of your file.\n",
      "\n"
     ]
    },
    {
     "name": "stdout",
     "output_type": "stream",
     "text": [
      "Webhook\n"
     ]
    },
    {
     "name": "stderr",
     "output_type": "stream",
     "text": [
      "/home/joao/.local/lib/python3.6/site-packages/plotly/graph_objs/_deprecations.py:39: DeprecationWarning:\n",
      "\n",
      "plotly.graph_objs.Data is deprecated.\n",
      "Please replace it with a list or tuple of instances of the following types\n",
      "  - plotly.graph_objs.Scatter\n",
      "  - plotly.graph_objs.Bar\n",
      "  - plotly.graph_objs.Area\n",
      "  - plotly.graph_objs.Histogram\n",
      "  - etc.\n",
      "\n",
      "\n",
      "/home/joao/.local/lib/python3.6/site-packages/plotly/offline/offline.py:466: UserWarning:\n",
      "\n",
      "Your filename `Signed-off-by whitout merges` didn't end with .html. Adding .html to the end of your file.\n",
      "\n"
     ]
    },
    {
     "name": "stdout",
     "output_type": "stream",
     "text": [
      "docs\n"
     ]
    },
    {
     "name": "stderr",
     "output_type": "stream",
     "text": [
      "/home/joao/.local/lib/python3.6/site-packages/plotly/graph_objs/_deprecations.py:39: DeprecationWarning:\n",
      "\n",
      "plotly.graph_objs.Data is deprecated.\n",
      "Please replace it with a list or tuple of instances of the following types\n",
      "  - plotly.graph_objs.Scatter\n",
      "  - plotly.graph_objs.Bar\n",
      "  - plotly.graph_objs.Area\n",
      "  - plotly.graph_objs.Histogram\n",
      "  - etc.\n",
      "\n",
      "\n",
      "/home/joao/.local/lib/python3.6/site-packages/plotly/offline/offline.py:466: UserWarning:\n",
      "\n",
      "Your filename `Signed-off-by whitout merges` didn't end with .html. Adding .html to the end of your file.\n",
      "\n"
     ]
    }
   ],
   "source": [
    "for repo in chosen_repos:\n",
    "    name = repo.name.replace('2018.2-','') \n",
    "    all_commit_count = defaultdict(list)\n",
    "    signed_commit_count = Counter()\n",
    "    for commit in repo.get_commits():\n",
    "        real_date = commit.commit.author.date - timedelta(hours=2)\n",
    "        all_commit_count[real_date.date()].append(commit.commit)\n",
    "    #     for saved_commit in all_commit_count[real_date.date()]:\n",
    "    #         if \"Merge\" in saved_commit.message or \"Merging\" in saved_commit.message:\n",
    "    #             all_commit_count[real_date.date()].remove(saved_commit)\n",
    "        if (commit.commit.message.count(\"Co-authored-by:\") > 1 or (commit.commit.message.count(\"Co-authored-by:\") == 1)) or (commit.commit.message.count(\"Signed-off-by:\") > 1 or (commit.commit.message.count(\"Signed-off-by:\") == 1 and\n",
    "                commit.commit.author.email not in commit.commit.message) or ((commit.commit.author.email != commit.commit.committer.email) \n",
    "                                               and (\"noreply@github.com\" not in commit.commit.committer.email))):\n",
    "\n",
    "            signed_commit_count[real_date.date()] += 1\n",
    "        else:\n",
    "            signed_commit_count[real_date.date()] += 0\n",
    "    commit_count = {k: len(v) for k, v in all_commit_count.items()}\n",
    "\n",
    "    dates = list(commit_count.keys())\n",
    "    dates.sort()\n",
    "\n",
    "    commit_count = sorted(commit_count.items())\n",
    "    all_amount_by_date = [x[1] for x in commit_count]\n",
    "    signed_commit_count = sorted(signed_commit_count.items())\n",
    "    signed_amount_by_date = [x[1] for x in signed_commit_count]\n",
    "\n",
    "    label = repo.name\n",
    "    print(label)\n",
    "    # Setting up plotly\n",
    "    plotly.tools.set_credentials_file(username='joaaogui', api_key='2TfVhKWEO6rpuxlj7c6R')\n",
    "    # Setting the privacy of the chart\n",
    "    plotly.tools.set_config_file(world_readable=True, sharing='public')\n",
    "\n",
    "    # Setting up the data for the chart\n",
    "    trace0 = Scatter(\n",
    "        x=dates,\n",
    "        y=all_amount_by_date,\n",
    "        name='All Commits'\n",
    "    )\n",
    "    trace1 = Scatter(\n",
    "        x=dates,\n",
    "        y=signed_amount_by_date,\n",
    "        name=\"Signed-Off-By Commits\"\n",
    "    )\n",
    "    data = Data([trace0, trace1])\n",
    "    title1 = \"Pair programming evolution during project - \" + label[7:]\n",
    "    # Setting the layout for the chart\n",
    "    layout = Layout(title=title1,\n",
    "                    xaxis=dict(title='Date of commit'),\n",
    "                    yaxis=dict(title='Amount of commits'))\n",
    "\n",
    "    chart = Figure(data=data, layout=layout)\n",
    "    py.image.save_as(chart, filename=name + '.png') \n",
    "    # Image(name + '.png')\n",
    "\n",
    "    plotly.offline.plot(chart, filename = 'Signed-off-by whitout merges', auto_open=True,\n",
    "                        image_width=1280, image_height=800,\n",
    "                        image_filename=name , image='svg')\n",
    "\n",
    "    # py.iplot(chart, filename = 'Signed-off-by whitout merges')\n"
   ]
  },
  {
   "cell_type": "code",
   "execution_count": 10,
   "metadata": {},
   "outputs": [],
   "source": [
    "# # f = open('repos.txt',\"r\")\n",
    "# with open('repos.txt') as f:\n",
    "#     lines = f.readlines()\n",
    "#     for line in lines:\n",
    "#         print(repr(line))\n",
    "#         line = line[:-1] \n",
    "#         repo = org.get_repo(line)\n",
    "#         name = repo.name.replace('2018.1-','') \n",
    "#         print(name)"
   ]
  },
  {
   "cell_type": "code",
   "execution_count": 15,
   "metadata": {},
   "outputs": [
    {
     "name": "stdout",
     "output_type": "stream",
     "text": [
      "2018.2-ComexStat-FrontEnd\n"
     ]
    }
   ],
   "source": [
    "#\n",
    "# 2018.1\n",
    "#\n",
    "# repo = org.get_repo(\"2018.1_Gerencia_mais\")\n",
    "# repo = org.get_repo(\"2018.1-Dr-Down\")\n",
    "# repo = org.get_repo(\"2018.1-Dulce_App\")\n",
    "# repo = org.get_repo(\"2018.1-TropicalHazards-BI\")\n",
    "# repo = org.get_repo(\"2018.1-TropicalHazards-BI-FrontEnd\")\n",
    "# repo = org.get_repo(\"2018.1_Nexte\")\n",
    "# repo = org.get_repo(\"2018.1-Reabilitacao-Motora\")\n",
    "# repo = org.get_repo(\"2018.1-VoxPop-WebApp\")\n",
    "# repo = org.get_repo(\"2018.1-IncluCare_API\")\n",
    "# repo = org.get_repo(\"2018.1-IncluCare\")\n",
    "# repo = org.get_repo(\"2018.1-Lacos-da-Alegria\")\n",
    "# repo = org.get_repo(\"2018.1-VoxPop-API\")\n",
    "# repo = org.get_repo(\"2018.1-Cardinals\")\n",
    "# repo = org.get_repo(\"2018.1-Dulce_API\")\n",
    "# repo = org.get_repo(\"2018.1-Lacos-da-Alegria-API\")\n",
    "\n",
    "name = repo.name.replace('2018.1-','') \n",
    "print(name)"
   ]
  },
  {
   "cell_type": "code",
   "execution_count": 16,
   "metadata": {},
   "outputs": [],
   "source": [
    "all_commit_count = defaultdict(list)\n",
    "signed_commit_count = Counter()"
   ]
  },
  {
   "cell_type": "code",
   "execution_count": 17,
   "metadata": {},
   "outputs": [],
   "source": [
    "for commit in repo.get_commits():\n",
    "    real_date = commit.commit.author.date - timedelta(hours=2)\n",
    "    all_commit_count[real_date.date()].append(commit.commit)\n",
    "#     for saved_commit in all_commit_count[real_date.date()]:\n",
    "#         if \"Merge\" in saved_commit.message or \"Merging\" in saved_commit.message:\n",
    "#             all_commit_count[real_date.date()].remove(saved_commit)\n",
    "    if (commit.commit.message.count(\"Co-authored-by:\") > 1 or (commit.commit.message.count(\"Co-authored-by:\") == 1)) or (commit.commit.message.count(\"Signed-off-by:\") > 1 or (commit.commit.message.count(\"Signed-off-by:\") == 1 and\n",
    "            commit.commit.author.email not in commit.commit.message) or ((commit.commit.author.email != commit.commit.committer.email) \n",
    "                                           and (\"noreply@github.com\" not in commit.commit.committer.email))):\n",
    "\n",
    "        signed_commit_count[real_date.date()] += 1\n",
    "    else:\n",
    "        signed_commit_count[real_date.date()] += 0"
   ]
  },
  {
   "cell_type": "code",
   "execution_count": 21,
   "metadata": {},
   "outputs": [
    {
     "ename": "AttributeError",
     "evalue": "'list' object has no attribute 'items'",
     "output_type": "error",
     "traceback": [
      "\u001b[0;31m---------------------------------------------------------------------------\u001b[0m",
      "\u001b[0;31mAttributeError\u001b[0m                            Traceback (most recent call last)",
      "\u001b[0;32m<ipython-input-21-f12fd7b10e28>\u001b[0m in \u001b[0;36m<module>\u001b[0;34m()\u001b[0m\n\u001b[1;32m      6\u001b[0m \u001b[0mcommit_count\u001b[0m \u001b[0;34m=\u001b[0m \u001b[0msorted\u001b[0m\u001b[0;34m(\u001b[0m\u001b[0mcommit_count\u001b[0m\u001b[0;34m.\u001b[0m\u001b[0mitems\u001b[0m\u001b[0;34m(\u001b[0m\u001b[0;34m)\u001b[0m\u001b[0;34m)\u001b[0m\u001b[0;34m\u001b[0m\u001b[0m\n\u001b[1;32m      7\u001b[0m \u001b[0mall_amount_by_date\u001b[0m \u001b[0;34m=\u001b[0m \u001b[0;34m[\u001b[0m\u001b[0mx\u001b[0m\u001b[0;34m[\u001b[0m\u001b[0;36m1\u001b[0m\u001b[0;34m]\u001b[0m \u001b[0;32mfor\u001b[0m \u001b[0mx\u001b[0m \u001b[0;32min\u001b[0m \u001b[0mcommit_count\u001b[0m\u001b[0;34m]\u001b[0m\u001b[0;34m\u001b[0m\u001b[0m\n\u001b[0;32m----> 8\u001b[0;31m \u001b[0msigned_commit_count\u001b[0m \u001b[0;34m=\u001b[0m \u001b[0msorted\u001b[0m\u001b[0;34m(\u001b[0m\u001b[0msigned_commit_count\u001b[0m\u001b[0;34m.\u001b[0m\u001b[0mitems\u001b[0m\u001b[0;34m(\u001b[0m\u001b[0;34m)\u001b[0m\u001b[0;34m)\u001b[0m\u001b[0;34m\u001b[0m\u001b[0m\n\u001b[0m\u001b[1;32m      9\u001b[0m \u001b[0msigned_amount_by_date\u001b[0m \u001b[0;34m=\u001b[0m \u001b[0;34m[\u001b[0m\u001b[0mx\u001b[0m\u001b[0;34m[\u001b[0m\u001b[0;36m1\u001b[0m\u001b[0;34m]\u001b[0m \u001b[0;32mfor\u001b[0m \u001b[0mx\u001b[0m \u001b[0;32min\u001b[0m \u001b[0msigned_commit_count\u001b[0m\u001b[0;34m]\u001b[0m\u001b[0;34m\u001b[0m\u001b[0m\n\u001b[1;32m     10\u001b[0m \u001b[0;34m\u001b[0m\u001b[0m\n",
      "\u001b[0;31mAttributeError\u001b[0m: 'list' object has no attribute 'items'"
     ]
    }
   ],
   "source": [
    "commit_count = {k: len(v) for k, v in all_commit_count.items()}\n",
    "\n",
    "dates = list(commit_count.keys())\n",
    "dates.sort()\n",
    "\n",
    "commit_count = sorted(commit_count.items())\n",
    "all_amount_by_date = [x[1] for x in commit_count]\n",
    "signed_commit_count = sorted(signed_commit_count.items())\n",
    "signed_amount_by_date = [x[1] for x in signed_commit_count]\n",
    "\n",
    "label = repo.name\n",
    "label\n",
    "print(label)"
   ]
  },
  {
   "cell_type": "code",
   "execution_count": 23,
   "metadata": {},
   "outputs": [
    {
     "name": "stderr",
     "output_type": "stream",
     "text": [
      "/home/joao/.local/lib/python3.6/site-packages/plotly/graph_objs/_deprecations.py:39: DeprecationWarning:\n",
      "\n",
      "plotly.graph_objs.Data is deprecated.\n",
      "Please replace it with a list or tuple of instances of the following types\n",
      "  - plotly.graph_objs.Scatter\n",
      "  - plotly.graph_objs.Bar\n",
      "  - plotly.graph_objs.Area\n",
      "  - plotly.graph_objs.Histogram\n",
      "  - etc.\n",
      "\n",
      "\n",
      "/home/joao/.local/lib/python3.6/site-packages/plotly/offline/offline.py:466: UserWarning:\n",
      "\n",
      "Your filename `Signed-off-by whitout merges` didn't end with .html. Adding .html to the end of your file.\n",
      "\n"
     ]
    },
    {
     "data": {
      "text/plain": [
       "'file:///home/joao/tcc_code/Signed-off-by whitout merges.html'"
      ]
     },
     "execution_count": 23,
     "metadata": {},
     "output_type": "execute_result"
    }
   ],
   "source": [
    "# Setting up plotly\n",
    "plotly.tools.set_credentials_file(username='joaaogui', api_key='2TfVhKWEO6rpuxlj7c6R')\n",
    "# Setting the privacy of the chart\n",
    "plotly.tools.set_config_file(world_readable=True, sharing='public')\n",
    "\n",
    "# Setting up the data for the chart\n",
    "trace0 = Scatter(\n",
    "    x=dates,\n",
    "    y=all_amount_by_date,\n",
    "    name='All Commits'\n",
    ")\n",
    "trace1 = Scatter(\n",
    "    x=dates,\n",
    "    y=signed_amount_by_date,\n",
    "    name=\"Signed-Off-By Commits\"\n",
    ")\n",
    "data = Data([trace0, trace1])\n",
    "title1 = \"Pair programming evolution during project - \" + label[7:]\n",
    "# Setting the layout for the chart\n",
    "layout = Layout(title=title1,\n",
    "                xaxis=dict(title='Date of commit'),\n",
    "                yaxis=dict(title='Amount of commits'))\n",
    "\n",
    "chart = Figure(data=data, layout=layout)\n",
    "py.image.save_as(chart, filename=name + '.png') \n",
    "# Image(name + '.png')\n",
    "\n",
    "plotly.offline.plot(chart, filename = 'Signed-off-by whitout merges', auto_open=True,\n",
    "                    image_width=1280, image_height=800,\n",
    "                    image_filename=name + '.png', image='svg')\n",
    "\n",
    "# py.iplot(chart, filename = 'Signed-off-by whitout merges')"
   ]
  },
  {
   "cell_type": "code",
   "execution_count": null,
   "metadata": {},
   "outputs": [],
   "source": []
  },
  {
   "cell_type": "code",
   "execution_count": null,
   "metadata": {},
   "outputs": [],
   "source": []
  }
 ],
 "metadata": {
  "kernelspec": {
   "display_name": "Python 3",
   "language": "python",
   "name": "python3"
  },
  "language_info": {
   "codemirror_mode": {
    "name": "ipython",
    "version": 3
   },
   "file_extension": ".py",
   "mimetype": "text/x-python",
   "name": "python",
   "nbconvert_exporter": "python",
   "pygments_lexer": "ipython3",
   "version": "3.6.6"
  }
 },
 "nbformat": 4,
 "nbformat_minor": 2
}
