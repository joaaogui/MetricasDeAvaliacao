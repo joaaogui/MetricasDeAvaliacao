{
 "cells": [
  {
   "cell_type": "code",
   "execution_count": 2,
   "metadata": {},
   "outputs": [],
   "source": [
    "from github import Github\n",
    "from datetime import datetime, timedelta\n",
    "import plotly.plotly as py\n",
    "import plotly\n",
    "from plotly.graph_objs import *\n",
    "from collections import Counter\n",
    "import requests, json\n",
    "from pprint import pprint"
   ]
  },
  {
   "cell_type": "code",
   "execution_count": 3,
   "metadata": {},
   "outputs": [],
   "source": [
    "# Create a Github instance:\n",
    "g = Github(\"<github_token>\")\n",
    "\n",
    "# Find my user\n",
    "user = g.get_user()\n",
    "\n",
    "# Find the organization I want\n",
    "org = g.get_organization(\"fga-gpp-mds\")\n",
    "\n",
    "# Get all repos from my account, including from organizations\n",
    "repos = user.get_repos()\n",
    "\n",
    "# Get the repo, either from user or organization, uncomment the repo you want. (Only one repo can be uncommented)\n",
    "\n",
    "# repo = org.get_repo(\"Falko-2017.2-BackEnd\")\n",
    "# repo = org.get_repo(\"2017.2-Receituario-Medico\")\n",
    "# repo = org.get_repo(\"2017.2-QueroCultura\")\n",
    "# repo = org.get_repo(\"2016.2-MissaoNascente\")\n",
    "# repo = org.get_repo(\"2017.2-Classificacao-de-Risco-Pediatrico\")\n",
    "# repo = org.get_repo(\"2017.1-PlataformaJogosUnB\")\n",
    "# repo = org.get_repo(\"2016.1-AbasteceAqui\")\n",
    "# repo = user.get_repo(\"timer\")"
   ]
  },
  {
   "cell_type": "markdown",
   "metadata": {},
   "source": [
    "# Quantidade total de alunos"
   ]
  },
  {
   "cell_type": "code",
   "execution_count": 4,
   "metadata": {
    "scrolled": true
   },
   "outputs": [
    {
     "name": "stdout",
     "output_type": "stream",
     "text": [
      "Quantidade total de alunos que cursaram as disciplina(Desde 2016.1) : 292\n"
     ]
    }
   ],
   "source": [
    "\n",
    "members = len(list(org.get_members()))\n",
    "outside_collaborators = 109\n",
    "\n",
    "print(\"Quantidade total de alunos que cursaram as disciplina(Desde 2016.1) : %d\" %(members + outside_collaborators))\n"
   ]
  },
  {
   "cell_type": "markdown",
   "metadata": {},
   "source": [
    "# Quantidade De Projetos"
   ]
  },
  {
   "cell_type": "code",
   "execution_count": 5,
   "metadata": {},
   "outputs": [
    {
     "name": "stdout",
     "output_type": "stream",
     "text": [
      "66\n",
      "Porém existem repositórios separados front/back\n",
      "Quantidade de projetos únicos: 33\n",
      "lista em: https://gist.github.com/joaaogui/73517651bd720789720a94053e2e1ba3\n"
     ]
    }
   ],
   "source": [
    "print(len(list(org.get_repos())))\n",
    "print(\"Porém existem repositórios separados front/back\")\n",
    "\n",
    "print(\"Quantidade de projetos únicos: 33\")\n",
    "print(\"lista em: https://gist.github.com/joaaogui/73517651bd720789720a94053e2e1ba3\")\n"
   ]
  },
  {
   "cell_type": "markdown",
   "metadata": {},
   "source": [
    "# Tecnologias\n"
   ]
  },
  {
   "cell_type": "code",
   "execution_count": 6,
   "metadata": {},
   "outputs": [],
   "source": [
    "tech_counter = Counter()\n",
    "\n",
    "repos = list(org.get_repos())\n",
    "for repo in repos:\n",
    "    tech = repo.language\n",
    "    if repo.name == \"A-Disciplina\":\n",
    "        continue\n",
    "    tech_counter[tech] += 1\n",
    "# Por linhas de código \n",
    "# for repo in repos:\n",
    "#     tech = repo.get_languages()"
   ]
  },
  {
   "cell_type": "code",
   "execution_count": 7,
   "metadata": {},
   "outputs": [],
   "source": [
    "# Setting up plotly\n",
    "plotly.tools.set_credentials_file(username='joaaogui', api_key='2TfVhKWEO6rpuxlj7c6R')\n",
    "# Setting the privacy of the chart\n",
    "plotly.tools.set_config_file(world_readable=True, sharing='public')\n",
    "\n",
    "labels = list(tech_counter.keys())\n",
    "values = list(tech_counter.values())\n"
   ]
  },
  {
   "cell_type": "code",
   "execution_count": 8,
   "metadata": {},
   "outputs": [
    {
     "data": {
      "text/html": [
       "<iframe id=\"igraph\" scrolling=\"no\" style=\"border:none;\" seamless=\"seamless\" src=\"https://plot.ly/~joaaogui/81.embed\" height=\"525px\" width=\"100%\"></iframe>"
      ],
      "text/plain": [
       "<plotly.tools.PlotlyDisplay object>"
      ]
     },
     "execution_count": 8,
     "metadata": {},
     "output_type": "execute_result"
    }
   ],
   "source": [
    "trace1 = {\n",
    "  \"insidetextfont\": {\"color\": \"#FFFFFF\"}, \n",
    "  \"labels\": labels, \n",
    "  \"marker\": {\n",
    "    \"colors\": [\"rgb(211,94,96)\", \"rgb(128,133,133)\", \"rgb(144,103,167)\", \"rgb(171,104,87)\", \"rgb(114,147,203)\"], \n",
    "    \"line\": {\n",
    "      \"color\": \"#FFFFFF\", \n",
    "      \"width\": 1\n",
    "    }\n",
    "  }, \n",
    "  \"showlegend\": False, \n",
    "  \"textinfo\": \"label+percent\", \n",
    "  \"type\": \"pie\", \n",
    "  \"values\": values\n",
    "}\n",
    "data = Data([trace1])\n",
    "layout = {\n",
    "  \"margin\": {\n",
    "    \"r\": 10, \n",
    "    \"t\": 25, \n",
    "    \"b\": 40, \n",
    "    \"l\": 60\n",
    "  }, \n",
    "  \"showlegend\": False, \n",
    "  \"title\": \"Technologies used in GPP/MDS\", \n",
    "  \"xaxis\": {\n",
    "    \"showgrid\": False, \n",
    "    \"showticklabels\": False, \n",
    "    \"zeroline\": False\n",
    "  }, \n",
    "  \"yaxis\": {\n",
    "    \"showgrid\": False, \n",
    "    \"showticklabels\": False, \n",
    "    \"zeroline\": False\n",
    "  }\n",
    "}\n",
    "fig = Figure(data=data, layout=layout)\n",
    "py.iplot(fig, filename = 'tecnologias')"
   ]
  },
  {
   "cell_type": "markdown",
   "metadata": {},
   "source": [
    "# Licenças"
   ]
  },
  {
   "cell_type": "code",
   "execution_count": 9,
   "metadata": {},
   "outputs": [],
   "source": [
    "license_counter = Counter()\n",
    "\n",
    "repos = list(org.get_repos())\n",
    "for repo in repos:\n",
    "    url = repo.url\n",
    "    r = requests.get(url + \"?access_token=<github_token>\") \n",
    "    r = r.json()\n",
    "    if r[\"license\"] == None:\n",
    "        license = \"None\"\n",
    "    else:\n",
    "        license = r[\"license\"][\"name\"]\n",
    "    license_counter[license] += 1\n"
   ]
  },
  {
   "cell_type": "code",
   "execution_count": 10,
   "metadata": {},
   "outputs": [],
   "source": [
    "# Setting up plotly\n",
    "plotly.tools.set_credentials_file(username='joaaogui', api_key='2TfVhKWEO6rpuxlj7c6R')\n",
    "# Setting the privacy of the chart\n",
    "plotly.tools.set_config_file(world_readable=True, sharing='public')\n",
    "\n",
    "labels = list(license_counter.keys())\n",
    "values = list(license_counter.values())"
   ]
  },
  {
   "cell_type": "code",
   "execution_count": 11,
   "metadata": {},
   "outputs": [
    {
     "data": {
      "text/html": [
       "<iframe id=\"igraph\" scrolling=\"no\" style=\"border:none;\" seamless=\"seamless\" src=\"https://plot.ly/~joaaogui/83.embed\" height=\"525px\" width=\"100%\"></iframe>"
      ],
      "text/plain": [
       "<plotly.tools.PlotlyDisplay object>"
      ]
     },
     "execution_count": 11,
     "metadata": {},
     "output_type": "execute_result"
    }
   ],
   "source": [
    "trace1 = {\n",
    "  \"insidetextfont\": {\"color\": \"#FFFFFF\"}, \n",
    "  \"labels\": labels, \n",
    "  \"marker\": {\n",
    "    \"colors\": [\"rgb(211,94,96)\", \"rgb(128,133,133)\", \"rgb(144,103,167)\", \"rgb(171,104,87)\", \"rgb(114,147,203)\"], \n",
    "    \"line\": {\n",
    "      \"color\": \"#FFFFFF\", \n",
    "      \"width\": 1\n",
    "    }\n",
    "  }, \n",
    "  \"showlegend\": False, \n",
    "  \"textinfo\": \"label+percent\", \n",
    "  \"type\": \"pie\", \n",
    "  \"values\": values\n",
    "}\n",
    "data = Data([trace1])\n",
    "layout = {\n",
    "  \"margin\": {\n",
    "    \"r\": 10, \n",
    "    \"t\": 25, \n",
    "    \"b\": 40, \n",
    "    \"l\": 60\n",
    "  }, \n",
    "  \"showlegend\": False, \n",
    "  \"title\": \"Licenses used in GPP/MDS\", \n",
    "  \"xaxis\": {\n",
    "    \"showgrid\": False, \n",
    "    \"showticklabels\": False, \n",
    "    \"zeroline\": False\n",
    "  }, \n",
    "  \"yaxis\": {\n",
    "    \"showgrid\": False, \n",
    "    \"showticklabels\": False, \n",
    "    \"zeroline\": False\n",
    "  }\n",
    "}\n",
    "fig = Figure(data=data, layout=layout)\n",
    "py.iplot(fig, filename = 'licenças')"
   ]
  },
  {
   "cell_type": "markdown",
   "metadata": {},
   "source": [
    "# Tamanho dos times"
   ]
  },
  {
   "cell_type": "code",
   "execution_count": 12,
   "metadata": {},
   "outputs": [],
   "source": [
    "exclude_list = [\"2016.1-Partiu_backend\", \"A-Disciplina\", \"2016.1-Purrsuit_back\", \"2016.2-CidadeDemocratica-api\", \"2017.1-Cadernos-APP\", \"2017.1-PlataformaJogosUnB-FrontEnd\", \"2017.1-Escola-X.app\", \"2017.2-AjudaConselheiro-Backend\", \"2017.2-DepuTinder-API\", \"Falko-2017.2-FrontEnd\", \"2016.2-Observatorio-de-Residuos-Backend\", \"2017.1-DEG-API\", \"2017.2-MerendaMais-Backend\", \"2017.1-Trezentos-RestAPI\"]\n",
    "\n",
    "contributors_counter = Counter()\n",
    "\n",
    "repos = list(org.get_repos())\n",
    "for repo in repos:\n",
    "    if repo.name in exclude_list:\n",
    "        continue\n",
    "    contributors_counter[len(list(repo.get_contributors()))] += 1"
   ]
  },
  {
   "cell_type": "code",
   "execution_count": 13,
   "metadata": {},
   "outputs": [],
   "source": [
    "# Setting up plotly\n",
    "plotly.tools.set_credentials_file(username='joaaogui', api_key='2TfVhKWEO6rpuxlj7c6R')\n",
    "# Setting the privacy of the chart\n",
    "plotly.tools.set_config_file(world_readable=True, sharing='public')\n",
    "\n",
    "labels = list(contributors_counter.keys())\n",
    "values = list(contributors_counter.values())"
   ]
  },
  {
   "cell_type": "code",
   "execution_count": 14,
   "metadata": {},
   "outputs": [
    {
     "data": {
      "text/html": [
       "<iframe id=\"igraph\" scrolling=\"no\" style=\"border:none;\" seamless=\"seamless\" src=\"https://plot.ly/~joaaogui/85.embed\" height=\"525px\" width=\"100%\"></iframe>"
      ],
      "text/plain": [
       "<plotly.tools.PlotlyDisplay object>"
      ]
     },
     "execution_count": 14,
     "metadata": {},
     "output_type": "execute_result"
    }
   ],
   "source": [
    "trace1 = {\n",
    "  \"insidetextfont\": {\"color\": \"#FFFFFF\"}, \n",
    "  \"labels\": labels, \n",
    "  \"marker\": {\n",
    "    \"colors\": [\"rgb(211,94,96)\", \"rgb(128,133,133)\", \"rgb(144,103,167)\", \"rgb(171,104,87)\", \"rgb(114,147,203)\"], \n",
    "    \"line\": {\n",
    "      \"color\": \"#FFFFFF\", \n",
    "      \"width\": 1\n",
    "    }\n",
    "  }, \n",
    "  \"showlegend\": False, \n",
    "  \"textinfo\": \"label+percent\", \n",
    "  \"type\": \"pie\", \n",
    "  \"values\": values\n",
    "}\n",
    "data = Data([trace1])\n",
    "layout = {\n",
    "  \"margin\": {\n",
    "    \"r\": 10, \n",
    "    \"t\": 25, \n",
    "    \"b\": 40, \n",
    "    \"l\": 60\n",
    "  }, \n",
    "  \"showlegend\": False, \n",
    "  \"title\": \"Members per project\", \n",
    "  \"xaxis\": {\n",
    "    \"showgrid\": False, \n",
    "    \"showticklabels\": False, \n",
    "    \"zeroline\": False\n",
    "  }, \n",
    "  \"yaxis\": {\n",
    "    \"showgrid\": False, \n",
    "    \"showticklabels\": False, \n",
    "    \"zeroline\": False\n",
    "  }\n",
    "}\n",
    "fig = Figure(data=data, layout=layout)\n",
    "py.iplot(fig, filename = 'team sizes')"
   ]
  },
  {
   "cell_type": "markdown",
   "metadata": {},
   "source": [
    "# Testes unitários por projeto\n",
    "\n",
    "O github não tem nenhum dado sobre teste, talvez consiga utilizando a api do codeclimate ou algo parecido"
   ]
  },
  {
   "cell_type": "markdown",
   "metadata": {},
   "source": [
    "# Issues fechadas por projeto"
   ]
  },
  {
   "cell_type": "code",
   "execution_count": 15,
   "metadata": {},
   "outputs": [],
   "source": [
    "repos = list(org.get_repos())\n",
    "labels = list()\n",
    "values = list()\n",
    "for repo in repos:\n",
    "    issues = repo.get_issues(state=\"closed\")\n",
    "    labels.append(repo.name)\n",
    "    values.append(len(list(issues)))"
   ]
  },
  {
   "cell_type": "code",
   "execution_count": 16,
   "metadata": {},
   "outputs": [
    {
     "data": {
      "text/html": [
       "<iframe id=\"igraph\" scrolling=\"no\" style=\"border:none;\" seamless=\"seamless\" src=\"https://plot.ly/~joaaogui/91.embed\" height=\"525px\" width=\"100%\"></iframe>"
      ],
      "text/plain": [
       "<plotly.tools.PlotlyDisplay object>"
      ]
     },
     "execution_count": 16,
     "metadata": {},
     "output_type": "execute_result"
    }
   ],
   "source": [
    "# Setting up plotly\n",
    "plotly.tools.set_credentials_file(username='joaaogui', api_key='2TfVhKWEO6rpuxlj7c6R')\n",
    "# Setting the privacy of the chart\n",
    "plotly.tools.set_config_file(world_readable=True, sharing='public')\n",
    "\n",
    "data = [Bar(x=labels,\n",
    "            y=values)]\n",
    "\n",
    "layout = Layout(title=\"Closed Issues per Project\",\n",
    "                xaxis=dict(title='Project name'),\n",
    "                yaxis=dict(title='Amount of issues'))\n",
    "\n",
    "chart = Figure(data=data, layout=layout)\n",
    "\n",
    "py.iplot(chart, filename='closed issues')"
   ]
  },
  {
   "cell_type": "markdown",
   "metadata": {},
   "source": [
    "# LOC per project\n",
    "\n",
    "To pensando alinda como mostrar esses dados, pq tem tres infos importants (Nome do projeto, tecnologia e LOC), pensei em mostrar em algo assim : https://plot.ly/~RPlotBot/1143, mnas nao sei ainda.\n",
    "\n",
    "\n",
    "Em relação aos projetos com LOC negativo, eu calculo o LOC do projeto pelas adições e deleções de cada commiter, e esses projetos realmente tem mais deleçoes que adições ( fui olhar lá nos insights) então não sei como contornar esse problema ainda."
   ]
  },
  {
   "cell_type": "code",
   "execution_count": 17,
   "metadata": {},
   "outputs": [
    {
     "name": "stdout",
     "output_type": "stream",
     "text": [
      "2016.1-Partiu_backend\n",
      "2016.1-Partiu_frontend\n",
      "A-Disciplina\n",
      "2016.1-avalia_mais\n",
      "2016.1-AbasteceAqui\n",
      "2016.1-Emergo\n",
      "2016.1-TemRemedioAi\n",
      "2016.1-Purrsuit_front\n",
      "2016.1-elugar\n",
      "2016.1-Purrsuit_back\n",
      "2016.2-WikiLegis\n",
      "2016.2-MissaoNascente\n",
      "Owla\n",
      "2016.2-Observatorio-de-Residuos-Frontend\n",
      "2016.2-SAS_FGA\n",
      "2016.2-Jardim-Botanico-Web\n",
      "2016.2-SME_UnB\n",
      "2016.2-CidadeDemocratica\n",
      "2016.2-SAAP\n",
      "2016.2-CidadeDemocratica-api\n",
      "2016.2-Observatorio-de-Residuos-Backend\n",
      "2017.1-PlataformaJogosUnB\n",
      "2017.1-Trezentos\n",
      "2017.1-Forum-Coordenadores-DEG\n",
      "2017.1-Escola-X\n",
      "2017.1-SIGS\n",
      "2017.1-Cadernos-API\n",
      "2017.1-OndeE-UnB\n",
      "2017.1-Trezentos-RestAPI\n",
      "2017.1-DEG-API\n",
      "2017.1-Cadernos-APP\n",
      "2017.1-PlataformaJogosUnB-FrontEnd\n",
      "2017.1-Escola-X.app\n",
      "2017.2-AjudaConselheiro-Backend\n",
      "2017.2-Receita-Mais\n",
      "2017.2-MerendaMais\n",
      "2017.2-DepuTinder\n",
      "2017.2-QueroCultura\n",
      "2017.2-SiGI-Op_API\n",
      "fisCAE-2017-2\n",
      "2017.2-SiGI-Op\n",
      "2017.2-AjudaConselheiro-Frontend\n",
      "2017.2-MerendaMais-Backend\n",
      "2017.2-DepuTinder-API\n",
      "Falko-2017.2-FrontEnd\n",
      "Falko-2017.2-BackEnd\n",
      "2018.1-Reabilitacao-Motora\n",
      "2018.1-IncluCare_API\n",
      "mobile-benchmark\n",
      "2018.1-IncluCare\n",
      "coding-interview-university\n"
     ]
    }
   ],
   "source": [
    "repos = org.get_repos()\n",
    "\n",
    "additions = 0\n",
    "deletions = 0\n",
    "\n",
    "labels = list()\n",
    "totals = list()\n",
    "techs = list()\n",
    "\n",
    "for repo in repos:\n",
    "    additions = 0\n",
    "    deletions = 0\n",
    "    total = 0\n",
    "    labels.append(repo.name)\n",
    "    techs.append(repo.language)\n",
    "    if repo.get_stats_contributors() == None:\n",
    "        print(repo.name)\n",
    "        continue\n",
    "    for stats in repo.get_stats_contributors():\n",
    "        for week in stats.weeks:\n",
    "            additions += week.a\n",
    "            deletions += week.d\n",
    "        total = additions - deletions\n",
    "    totals.append(total)\n",
    "    \n"
   ]
  },
  {
   "cell_type": "code",
   "execution_count": 18,
   "metadata": {},
   "outputs": [
    {
     "data": {
      "text/html": [
       "<iframe id=\"igraph\" scrolling=\"no\" style=\"border:none;\" seamless=\"seamless\" src=\"https://plot.ly/~joaaogui/89.embed\" height=\"525px\" width=\"100%\"></iframe>"
      ],
      "text/plain": [
       "<plotly.tools.PlotlyDisplay object>"
      ]
     },
     "execution_count": 18,
     "metadata": {},
     "output_type": "execute_result"
    }
   ],
   "source": [
    "# Setting up plotly\n",
    "plotly.tools.set_credentials_file(username='joaaogui', api_key='2TfVhKWEO6rpuxlj7c6R')\n",
    "# Setting the privacy of the chart\n",
    "plotly.tools.set_config_file(world_readable=True, sharing='public')\n",
    "\n",
    "data = [Bar(x=labels,\n",
    "            y=totals)]\n",
    "\n",
    "layout = Layout(title=\"LOC per Project\",\n",
    "                xaxis=dict(title='Project name'),\n",
    "                yaxis=dict(title='LOC'))\n",
    "\n",
    "chart = Figure(data=data, layout=layout)\n",
    "\n",
    "py.iplot(chart, filename='LOC')"
   ]
  },
  {
   "cell_type": "code",
   "execution_count": null,
   "metadata": {},
   "outputs": [],
   "source": []
  },
  {
   "cell_type": "code",
   "execution_count": null,
   "metadata": {},
   "outputs": [],
   "source": []
  }
 ],
 "metadata": {
  "kernelspec": {
   "display_name": "Python 3",
   "language": "python",
   "name": "python3"
  },
  "language_info": {
   "codemirror_mode": {
    "name": "ipython",
    "version": 3
   },
   "file_extension": ".py",
   "mimetype": "text/x-python",
   "name": "python",
   "nbconvert_exporter": "python",
   "pygments_lexer": "ipython3",
   "version": "3.6.5"
  }
 },
 "nbformat": 4,
 "nbformat_minor": 2
}
